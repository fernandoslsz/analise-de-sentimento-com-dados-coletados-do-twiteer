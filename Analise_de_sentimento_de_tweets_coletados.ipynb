{
 "cells": [
  {
   "cell_type": "code",
   "execution_count": 1,
   "metadata": {},
   "outputs": [],
   "source": [
    "from tweepy.streaming import StreamListener\n",
    "from tweepy import OAuthHandler\n",
    "from tweepy import Stream\n",
    "from datetime import datetime\n",
    "import json\n",
    "import tweepy"
   ]
  },
  {
   "cell_type": "code",
   "execution_count": 2,
   "metadata": {},
   "outputs": [],
   "source": [
    "import pandas as pd\n",
    "import numpy as np"
   ]
  },
  {
   "cell_type": "code",
   "execution_count": 3,
   "metadata": {},
   "outputs": [],
   "source": [
    "# Entrando com sua credencia do twitter\n",
    "consumer_key = \"colque sua credencial aqui\""
   ]
  },
  {
   "cell_type": "code",
   "execution_count": 4,
   "metadata": {},
   "outputs": [],
   "source": [
    "consumer_secret = \"colque sua credencial aqui\""
   ]
  },
  {
   "cell_type": "code",
   "execution_count": 5,
   "metadata": {},
   "outputs": [],
   "source": [
    "access_token = \"colque sua credencial aqui\""
   ]
  },
  {
   "cell_type": "code",
   "execution_count": 6,
   "metadata": {},
   "outputs": [],
   "source": [
    "access_token_secret = \"colque sua credencial aqui\""
   ]
  },
  {
   "cell_type": "code",
   "execution_count": 7,
   "metadata": {},
   "outputs": [],
   "source": [
    "auth = OAuthHandler(consumer_key, consumer_secret)"
   ]
  },
  {
   "cell_type": "code",
   "execution_count": 8,
   "metadata": {},
   "outputs": [],
   "source": [
    "auth.set_access_token(access_token, access_token_secret)"
   ]
  },
  {
   "cell_type": "code",
   "execution_count": null,
   "metadata": {},
   "outputs": [],
   "source": [
    "# Utilizando um arquivo para fazer as crendenciais\n",
    "keys_file = open('nome_do_arquivo.fonte_do_arquivo')\n",
    "lines = keys_file.readlines()\n",
    "API_key = lines[0].rstrip()\n",
    "API_secre_key = lines[1].rstrip()\n",
    "Access_token = lines[2].rstrip()\n",
    "Access_token_secret = lines[3].rstrip()"
   ]
  },
  {
   "cell_type": "code",
   "execution_count": 9,
   "metadata": {},
   "outputs": [],
   "source": [
    "#Construir a API\n",
    "api = tweepy.API(auth,wait_on_rate_limit=True, wait_on_rate_limit_notify=True, retry_count=5, retry_delay=10)"
   ]
  },
  {
   "cell_type": "markdown",
   "metadata": {},
   "source": [
    "### Coleta de dadoa (busca por palavra chave)"
   ]
  },
  {
   "cell_type": "code",
   "execution_count": 10,
   "metadata": {},
   "outputs": [],
   "source": [
    "# Definir listas de armazenamento\n",
    "tweets = []\n",
    "info = []"
   ]
  },
  {
   "cell_type": "code",
   "execution_count": 12,
   "metadata": {},
   "outputs": [],
   "source": [
    "#Definir que palavras (keyward) que deseja pesquisar no Twitter\n",
    "\n",
    "keyword = (\"Economia OR Política \")"
   ]
  },
  {
   "cell_type": "markdown",
   "metadata": {},
   "source": [
    "### Busca por palavra chave e recuperar os tweets em inglês"
   ]
  },
  {
   "cell_type": "code",
   "execution_count": 13,
   "metadata": {},
   "outputs": [],
   "source": [
    "for tweet in tweepy.Cursor(api.search,\n",
    "                          q=keyword, tweet_mode='extended',\n",
    "                          rpp=200,\n",
    "                          result_type='mixed', lang='pt',\n",
    "                          include_entitles=True).items(200):\n",
    "    if 'retweeted_status' in dir(tweet):\n",
    "        aux=tweet.retweeted_status.full_text\n",
    "    else:\n",
    "        aux=tweet.full_text\n",
    "    \n",
    "    newtweet = aux.replace(\"\\n\",\" \")\n",
    "    \n",
    "    tweets.append(newtweet)\n",
    "    info.append(tweet)\n",
    "    file = open(\"palavras_formula1.txt\", \"a\", -1, \"utf-8\")\n",
    "    file.write(newtweet+'\\n')\n",
    "    file.close()"
   ]
  },
  {
   "cell_type": "code",
   "execution_count": 14,
   "metadata": {},
   "outputs": [
    {
     "name": "stdout",
     "output_type": "stream",
     "text": [
      "Total de tweets coletados 200.\n"
     ]
    }
   ],
   "source": [
    "# Para verficar a quantidade de tweets coletado use a função \"len()\"\n",
    "print(\"Total de tweets coletados %s.\" %(len(info)))"
   ]
  },
  {
   "cell_type": "markdown",
   "metadata": {},
   "source": [
    "### Criar um dataframe"
   ]
  },
  {
   "cell_type": "code",
   "execution_count": 17,
   "metadata": {},
   "outputs": [],
   "source": [
    "tweets_df = pd.DataFrame(tweets, columns=['Tweets'])\n",
    "\n",
    "tweets_df['len'] = np.array([len(tweet) for tweet in tweets])\n",
    "tweets_df['ID'] = np.array([tweet.id for tweet in info])\n",
    "tweets_df['USER'] = np.array([tweet.user.screen_name for tweet in info])\n",
    "tweets_df['userName'] = np.array([tweet.user.name for tweet in info])\n",
    "tweets_df['User Location'] = np.array([tweet.user.lang for tweet in info])\n",
    "tweets_df['Language'] = np.array([tweet.user.lang for tweet in info])\n",
    "tweets_df['Data'] = np.array([tweet.created_at for tweet in info])\n",
    "tweets_df['Source'] = np.array([tweet.source for tweet in info])\n",
    "tweets_df['Likes'] = np.array([tweet.favorite_count for tweet in info])\n",
    "tweets_df['Retweets'] = np.array([tweet.retweet_count for tweet in info])\n",
    "tweets_df['Geo'] = np.array([tweet.geo for tweet in info])\n",
    "tweets_df['Coordinates'] = np.array([tweet.coordinates for tweet in info])\n",
    "tweets_df['Place'] = np.array([tweet.place for tweet in info])\n",
    "\n",
    "tweets_df.to_csv(\"noticias.csv\")"
   ]
  },
  {
   "cell_type": "code",
   "execution_count": 18,
   "metadata": {},
   "outputs": [
    {
     "data": {
      "text/html": [
       "<div>\n",
       "<style scoped>\n",
       "    .dataframe tbody tr th:only-of-type {\n",
       "        vertical-align: middle;\n",
       "    }\n",
       "\n",
       "    .dataframe tbody tr th {\n",
       "        vertical-align: top;\n",
       "    }\n",
       "\n",
       "    .dataframe thead th {\n",
       "        text-align: right;\n",
       "    }\n",
       "</style>\n",
       "<table border=\"1\" class=\"dataframe\">\n",
       "  <thead>\n",
       "    <tr style=\"text-align: right;\">\n",
       "      <th></th>\n",
       "      <th>Tweets</th>\n",
       "      <th>len</th>\n",
       "      <th>ID</th>\n",
       "      <th>USER</th>\n",
       "      <th>userName</th>\n",
       "      <th>User Location</th>\n",
       "      <th>Language</th>\n",
       "      <th>Data</th>\n",
       "      <th>Source</th>\n",
       "      <th>Likes</th>\n",
       "      <th>Retweets</th>\n",
       "      <th>Geo</th>\n",
       "      <th>Coordinates</th>\n",
       "      <th>Place</th>\n",
       "    </tr>\n",
       "  </thead>\n",
       "  <tbody>\n",
       "    <tr>\n",
       "      <th>0</th>\n",
       "      <td>\"Vou fechar a economia até surgir a vacina. Qu...</td>\n",
       "      <td>280</td>\n",
       "      <td>1301491682073104385</td>\n",
       "      <td>ArthurWeint</td>\n",
       "      <td>Arthur Weintraub</td>\n",
       "      <td>None</td>\n",
       "      <td>None</td>\n",
       "      <td>2020-09-03 12:06:12</td>\n",
       "      <td>Twitter for Android</td>\n",
       "      <td>19448</td>\n",
       "      <td>5411</td>\n",
       "      <td>None</td>\n",
       "      <td>None</td>\n",
       "      <td>None</td>\n",
       "    </tr>\n",
       "    <tr>\n",
       "      <th>1</th>\n",
       "      <td>AMEI, AMEI, AMEII!!!! Obrigada aos goianos res...</td>\n",
       "      <td>268</td>\n",
       "      <td>1301253377670762497</td>\n",
       "      <td>DamaresAlves</td>\n",
       "      <td>Damares Alves</td>\n",
       "      <td>None</td>\n",
       "      <td>None</td>\n",
       "      <td>2020-09-02 20:19:16</td>\n",
       "      <td>Twitter for Android</td>\n",
       "      <td>20178</td>\n",
       "      <td>3646</td>\n",
       "      <td>None</td>\n",
       "      <td>None</td>\n",
       "      <td>Place(_api=&lt;tweepy.api.API object at 0x0000027...</td>\n",
       "    </tr>\n",
       "    <tr>\n",
       "      <th>2</th>\n",
       "      <td>O maior castigo para aqueles que não se intere...</td>\n",
       "      <td>140</td>\n",
       "      <td>1301472044706562049</td>\n",
       "      <td>andretrig</td>\n",
       "      <td>André Trigueiro</td>\n",
       "      <td>None</td>\n",
       "      <td>None</td>\n",
       "      <td>2020-09-03 10:48:10</td>\n",
       "      <td>Twitter for iPhone</td>\n",
       "      <td>5504</td>\n",
       "      <td>712</td>\n",
       "      <td>None</td>\n",
       "      <td>None</td>\n",
       "      <td>None</td>\n",
       "    </tr>\n",
       "    <tr>\n",
       "      <th>3</th>\n",
       "      <td>Assembleia aprova projeto que proíbe distribui...</td>\n",
       "      <td>154</td>\n",
       "      <td>1301613627431104517</td>\n",
       "      <td>CidadeFortal</td>\n",
       "      <td>FORTALEZA - CE</td>\n",
       "      <td>None</td>\n",
       "      <td>None</td>\n",
       "      <td>2020-09-03 20:10:46</td>\n",
       "      <td>Twitter Web App</td>\n",
       "      <td>0</td>\n",
       "      <td>0</td>\n",
       "      <td>None</td>\n",
       "      <td>None</td>\n",
       "      <td>None</td>\n",
       "    </tr>\n",
       "    <tr>\n",
       "      <th>4</th>\n",
       "      <td>“Gripezinha, resfriadinho, fantasia, salvar ec...</td>\n",
       "      <td>120</td>\n",
       "      <td>1301613617016602624</td>\n",
       "      <td>JOSECLOVESSILV1</td>\n",
       "      <td>JOSE CLOVES SILVA SOUSA</td>\n",
       "      <td>None</td>\n",
       "      <td>None</td>\n",
       "      <td>2020-09-03 20:10:43</td>\n",
       "      <td>Twitter for Android</td>\n",
       "      <td>0</td>\n",
       "      <td>110</td>\n",
       "      <td>None</td>\n",
       "      <td>None</td>\n",
       "      <td>None</td>\n",
       "    </tr>\n",
       "    <tr>\n",
       "      <th>5</th>\n",
       "      <td>31 mil reais POR DIA. Eis o gasto de ⁦@jairbol...</td>\n",
       "      <td>183</td>\n",
       "      <td>1301613613715726338</td>\n",
       "      <td>AntnioM85638126</td>\n",
       "      <td>Antônio Marcos dos Santos</td>\n",
       "      <td>None</td>\n",
       "      <td>None</td>\n",
       "      <td>2020-09-03 20:10:42</td>\n",
       "      <td>Twitter for Android</td>\n",
       "      <td>0</td>\n",
       "      <td>60</td>\n",
       "      <td>None</td>\n",
       "      <td>None</td>\n",
       "      <td>None</td>\n",
       "    </tr>\n",
       "    <tr>\n",
       "      <th>6</th>\n",
       "      <td>A campanha midiática internacional contra Bols...</td>\n",
       "      <td>254</td>\n",
       "      <td>1301613611899670535</td>\n",
       "      <td>rubensfbritof</td>\n",
       "      <td>Rubens Brito Filho 🇧🇷⚽️</td>\n",
       "      <td>None</td>\n",
       "      <td>None</td>\n",
       "      <td>2020-09-03 20:10:42</td>\n",
       "      <td>Twitter for Android</td>\n",
       "      <td>0</td>\n",
       "      <td>633</td>\n",
       "      <td>None</td>\n",
       "      <td>None</td>\n",
       "      <td>None</td>\n",
       "    </tr>\n",
       "    <tr>\n",
       "      <th>7</th>\n",
       "      <td>Frente da reforma administrativa elogia texto;...</td>\n",
       "      <td>97</td>\n",
       "      <td>1301613611744481300</td>\n",
       "      <td>izebaraujo</td>\n",
       "      <td>Izeneide Barros</td>\n",
       "      <td>None</td>\n",
       "      <td>None</td>\n",
       "      <td>2020-09-03 20:10:42</td>\n",
       "      <td>Twitter Web App</td>\n",
       "      <td>0</td>\n",
       "      <td>2</td>\n",
       "      <td>None</td>\n",
       "      <td>None</td>\n",
       "      <td>None</td>\n",
       "    </tr>\n",
       "    <tr>\n",
       "      <th>8</th>\n",
       "      <td>maravilhas como esta não se inventam.  a lei q...</td>\n",
       "      <td>261</td>\n",
       "      <td>1301613611140485120</td>\n",
       "      <td>SergioMBAvelar</td>\n",
       "      <td>Sérgio Avelar</td>\n",
       "      <td>None</td>\n",
       "      <td>None</td>\n",
       "      <td>2020-09-03 20:10:42</td>\n",
       "      <td>Twitter for Android</td>\n",
       "      <td>0</td>\n",
       "      <td>36</td>\n",
       "      <td>None</td>\n",
       "      <td>None</td>\n",
       "      <td>None</td>\n",
       "    </tr>\n",
       "    <tr>\n",
       "      <th>9</th>\n",
       "      <td>Regras da reforma administrativa não afetam ju...</td>\n",
       "      <td>95</td>\n",
       "      <td>1301613610997878784</td>\n",
       "      <td>jspldc</td>\n",
       "      <td>jspldc🚩🚩🚩🚩❤️❤️❤️</td>\n",
       "      <td>None</td>\n",
       "      <td>None</td>\n",
       "      <td>2020-09-03 20:10:42</td>\n",
       "      <td>Twitter for Android</td>\n",
       "      <td>0</td>\n",
       "      <td>598</td>\n",
       "      <td>None</td>\n",
       "      <td>None</td>\n",
       "      <td>None</td>\n",
       "    </tr>\n",
       "  </tbody>\n",
       "</table>\n",
       "</div>"
      ],
      "text/plain": [
       "                                              Tweets  len  \\\n",
       "0  \"Vou fechar a economia até surgir a vacina. Qu...  280   \n",
       "1  AMEI, AMEI, AMEII!!!! Obrigada aos goianos res...  268   \n",
       "2  O maior castigo para aqueles que não se intere...  140   \n",
       "3  Assembleia aprova projeto que proíbe distribui...  154   \n",
       "4  “Gripezinha, resfriadinho, fantasia, salvar ec...  120   \n",
       "5  31 mil reais POR DIA. Eis o gasto de ⁦@jairbol...  183   \n",
       "6  A campanha midiática internacional contra Bols...  254   \n",
       "7  Frente da reforma administrativa elogia texto;...   97   \n",
       "8  maravilhas como esta não se inventam.  a lei q...  261   \n",
       "9  Regras da reforma administrativa não afetam ju...   95   \n",
       "\n",
       "                    ID             USER                   userName  \\\n",
       "0  1301491682073104385      ArthurWeint           Arthur Weintraub   \n",
       "1  1301253377670762497     DamaresAlves              Damares Alves   \n",
       "2  1301472044706562049        andretrig            André Trigueiro   \n",
       "3  1301613627431104517     CidadeFortal             FORTALEZA - CE   \n",
       "4  1301613617016602624  JOSECLOVESSILV1    JOSE CLOVES SILVA SOUSA   \n",
       "5  1301613613715726338  AntnioM85638126  Antônio Marcos dos Santos   \n",
       "6  1301613611899670535    rubensfbritof    Rubens Brito Filho 🇧🇷⚽️   \n",
       "7  1301613611744481300       izebaraujo            Izeneide Barros   \n",
       "8  1301613611140485120   SergioMBAvelar              Sérgio Avelar   \n",
       "9  1301613610997878784           jspldc           jspldc🚩🚩🚩🚩❤️❤️❤️   \n",
       "\n",
       "  User Location Language                Data               Source  Likes  \\\n",
       "0          None     None 2020-09-03 12:06:12  Twitter for Android  19448   \n",
       "1          None     None 2020-09-02 20:19:16  Twitter for Android  20178   \n",
       "2          None     None 2020-09-03 10:48:10   Twitter for iPhone   5504   \n",
       "3          None     None 2020-09-03 20:10:46      Twitter Web App      0   \n",
       "4          None     None 2020-09-03 20:10:43  Twitter for Android      0   \n",
       "5          None     None 2020-09-03 20:10:42  Twitter for Android      0   \n",
       "6          None     None 2020-09-03 20:10:42  Twitter for Android      0   \n",
       "7          None     None 2020-09-03 20:10:42      Twitter Web App      0   \n",
       "8          None     None 2020-09-03 20:10:42  Twitter for Android      0   \n",
       "9          None     None 2020-09-03 20:10:42  Twitter for Android      0   \n",
       "\n",
       "   Retweets   Geo Coordinates  \\\n",
       "0      5411  None        None   \n",
       "1      3646  None        None   \n",
       "2       712  None        None   \n",
       "3         0  None        None   \n",
       "4       110  None        None   \n",
       "5        60  None        None   \n",
       "6       633  None        None   \n",
       "7         2  None        None   \n",
       "8        36  None        None   \n",
       "9       598  None        None   \n",
       "\n",
       "                                               Place  \n",
       "0                                               None  \n",
       "1  Place(_api=<tweepy.api.API object at 0x0000027...  \n",
       "2                                               None  \n",
       "3                                               None  \n",
       "4                                               None  \n",
       "5                                               None  \n",
       "6                                               None  \n",
       "7                                               None  \n",
       "8                                               None  \n",
       "9                                               None  "
      ]
     },
     "execution_count": 18,
     "metadata": {},
     "output_type": "execute_result"
    }
   ],
   "source": [
    "tweets_df.head(10)"
   ]
  },
  {
   "cell_type": "code",
   "execution_count": 19,
   "metadata": {},
   "outputs": [
    {
     "data": {
      "text/plain": [
       "'31 mil reais POR DIA. Eis o gasto de \\u2066@jairbolsonaro\\u2069 com o cartão corporativo, cujos demonstrativos são - por obra e graça do miliciano - mantidos em sigilo.  https://t.co/XFPBbV2Wyt'"
      ]
     },
     "execution_count": 19,
     "metadata": {},
     "output_type": "execute_result"
    }
   ],
   "source": [
    "tweets_df['Tweets'][5]"
   ]
  },
  {
   "cell_type": "markdown",
   "metadata": {},
   "source": [
    "### Identificar Top Tweets coletados"
   ]
  },
  {
   "cell_type": "code",
   "execution_count": 20,
   "metadata": {},
   "outputs": [
    {
     "name": "stdout",
     "output_type": "stream",
     "text": [
      "O tweet com mais curtidas (likes) é: \n",
      "AMEI, AMEI, AMEII!!!! Obrigada aos goianos responsáveis pelo lindo outdoor. Antes víamos milhares de brasileiros com vergonha da classe política, hoje vejo milhões contentes com esse super time do Presidente @jairbolsonaro.🇧🇷  #governobolsonaro https://t.co/qupRRh4Wze\n",
      "Número de curtidas: 20178\n"
     ]
    }
   ],
   "source": [
    "#Tweets com maior número de LIKES\n",
    "likes_max = np.max(tweets_df['Likes']) # Função max do numpy identifica o valor máximo\n",
    "likes = tweets_df[tweets_df.Likes == likes_max].index[0] # pega o primeiro tweet com valor máximo\n",
    "print(\"O tweet com mais curtidas (likes) é: \\n{}\".format(tweets_df['Tweets'][likes]))\n",
    "print(\"Número de curtidas: {}\".format(likes_max))"
   ]
  },
  {
   "cell_type": "code",
   "execution_count": 21,
   "metadata": {},
   "outputs": [
    {
     "name": "stdout",
     "output_type": "stream",
     "text": [
      "1\n"
     ]
    }
   ],
   "source": [
    "print(np.sum(tweets_df['Likes'] == likes_max)) # Quantos tweets possuem o mesmo valor máximo"
   ]
  },
  {
   "cell_type": "code",
   "execution_count": 22,
   "metadata": {},
   "outputs": [
    {
     "name": "stdout",
     "output_type": "stream",
     "text": [
      "O valor com mais retweet é: \n",
      "lindo o lobo guara da nota de 200 com cara de quem não se alimenta há dias pois  teve seu habitat natural destruído pela política ambiental de Ricardo Salles achei verossímil achei plausível\n",
      "Número de retweets: 22058\n"
     ]
    }
   ],
   "source": [
    "retweet_max = np.max(tweets_df['Retweets'])# Retorna o valor máximo\n",
    "\n",
    "retweet = tweets_df[tweets_df.Retweets == retweet_max].index[0]# pega o primeiro retweet com o valor máximo\n",
    "\n",
    "print(\"O valor com mais retweet é: \\n{}\".format(tweets_df['Tweets'][retweet]))\n",
    "print(\"Número de retweets: {}\".format(retweet_max))"
   ]
  },
  {
   "cell_type": "markdown",
   "metadata": {},
   "source": [
    "### Identificar a fonte(origem) do tweet"
   ]
  },
  {
   "cell_type": "code",
   "execution_count": 23,
   "metadata": {},
   "outputs": [],
   "source": [
    "sources = [] # Lista para armazenar as fontes\n",
    "for source in tweets_df['Source']:\n",
    "    if source not in sources:\n",
    "        sources.append(source) # inclui no vetor source apenas se a fonte encontrada ainda\n",
    "\n",
    "percent = np.zeros(len(sources)) # Retorna um novo vetor, com o número de elementos do vetor sou\n",
    "\n",
    "for source in tweets_df['Source']:\n",
    "    for index in range(len(sources)):\n",
    "        if source == sources[index]:\n",
    "            percent[index] += 1\n",
    "            pass"
   ]
  },
  {
   "cell_type": "markdown",
   "metadata": {},
   "source": [
    "### Gráfico que exibe o número de tweets por fonte"
   ]
  },
  {
   "cell_type": "code",
   "execution_count": 24,
   "metadata": {},
   "outputs": [
    {
     "data": {
      "text/html": [
       "<div>\n",
       "<style scoped>\n",
       "    .dataframe tbody tr th:only-of-type {\n",
       "        vertical-align: middle;\n",
       "    }\n",
       "\n",
       "    .dataframe tbody tr th {\n",
       "        vertical-align: top;\n",
       "    }\n",
       "\n",
       "    .dataframe thead th {\n",
       "        text-align: right;\n",
       "    }\n",
       "</style>\n",
       "<table border=\"1\" class=\"dataframe\">\n",
       "  <thead>\n",
       "    <tr style=\"text-align: right;\">\n",
       "      <th></th>\n",
       "      <th>source</th>\n",
       "    </tr>\n",
       "  </thead>\n",
       "  <tbody>\n",
       "    <tr>\n",
       "      <th>Twitter for Android</th>\n",
       "      <td>116.0</td>\n",
       "    </tr>\n",
       "    <tr>\n",
       "      <th>Twitter for iPhone</th>\n",
       "      <td>24.0</td>\n",
       "    </tr>\n",
       "    <tr>\n",
       "      <th>Twitter Web App</th>\n",
       "      <td>54.0</td>\n",
       "    </tr>\n",
       "    <tr>\n",
       "      <th>Twitter for iPad</th>\n",
       "      <td>1.0</td>\n",
       "    </tr>\n",
       "    <tr>\n",
       "      <th>Bahia.ba</th>\n",
       "      <td>1.0</td>\n",
       "    </tr>\n",
       "    <tr>\n",
       "      <th>TweetDeck</th>\n",
       "      <td>2.0</td>\n",
       "    </tr>\n",
       "    <tr>\n",
       "      <th>insta: tevinobuzao</th>\n",
       "      <td>1.0</td>\n",
       "    </tr>\n",
       "    <tr>\n",
       "      <th>WordPress.com</th>\n",
       "      <td>1.0</td>\n",
       "    </tr>\n",
       "  </tbody>\n",
       "</table>\n",
       "</div>"
      ],
      "text/plain": [
       "                     source\n",
       "Twitter for Android   116.0\n",
       "Twitter for iPhone     24.0\n",
       "Twitter Web App        54.0\n",
       "Twitter for iPad        1.0\n",
       "Bahia.ba                1.0\n",
       "TweetDeck               2.0\n",
       "insta: tevinobuzao      1.0\n",
       "WordPress.com           1.0"
      ]
     },
     "execution_count": 24,
     "metadata": {},
     "output_type": "execute_result"
    }
   ],
   "source": [
    "sourceDF = pd.DataFrame({'source':percent,}, index=sources)\n",
    "sourceDF"
   ]
  },
  {
   "cell_type": "code",
   "execution_count": 25,
   "metadata": {},
   "outputs": [],
   "source": [
    "# Excluir quando o número de tweets da fonte for < 10\n",
    "sourceDF = sourceDF.drop(sourceDF[sourceDF.source < 10].index)"
   ]
  },
  {
   "cell_type": "code",
   "execution_count": 27,
   "metadata": {},
   "outputs": [],
   "source": [
    "# Pacote para visualização\n",
    "import matplotlib.pyplot as plt"
   ]
  },
  {
   "cell_type": "code",
   "execution_count": 29,
   "metadata": {},
   "outputs": [
    {
     "data": {
      "image/png": "[encoded data removed]",
      "text/plain": [
       "<Figure size 432x288 with 1 Axes>"
      ]
     },
     "metadata": {
      "needs_background": "light"
     },
     "output_type": "display_data"
    }
   ],
   "source": [
    "# Gráfico para comparar a quantidade de twitters por fonte\n",
    "sources_sorted = sourceDF.sort_values('source', ascending=True)\n",
    "ax = sources_sorted.source.plot(kind='barh', color=\"#A52A2A\")\n",
    "ax.get_xaxis().set_major_formatter(plt.FuncFormatter(lambda x, loc: \"{:,}\".format(int(x))))"
   ]
  },
  {
   "cell_type": "code",
   "execution_count": 30,
   "metadata": {},
   "outputs": [
    {
     "data": {
      "image/png": "[encoded data removed]",
      "text/plain": [
       "<Figure size 432x288 with 1 Axes>"
      ]
     },
     "metadata": {
      "needs_background": "light"
     },
     "output_type": "display_data"
    }
   ],
   "source": [
    "sources_sorted = sourceDF.sort_values('source', ascending=False)\n",
    "ax = sources_sorted.source.plot(kind='barh', color='#B8860B')\n",
    "ax.get_xaxis().set_major_formatter(plt.FuncFormatter(lambda x, loc: \"{:,}\".format(int(x))))"
   ]
  },
  {
   "cell_type": "markdown",
   "metadata": {},
   "source": [
    "#### Análise de polaridade"
   ]
  },
  {
   "cell_type": "code",
   "execution_count": 32,
   "metadata": {},
   "outputs": [
    {
     "name": "stdout",
     "output_type": "stream",
     "text": [
      "Collecting textblob\n",
      "  Using cached textblob-0.15.3-py2.py3-none-any.whl (636 kB)\n",
      "Requirement already satisfied, skipping upgrade: nltk>=3.1 in c:\\users\\ferna\\anaconda3\\lib\\site-packages (from textblob) (3.4.5)\n",
      "Requirement already satisfied, skipping upgrade: six in c:\\users\\ferna\\anaconda3\\lib\\site-packages (from nltk>=3.1->textblob) (1.14.0)\n",
      "Installing collected packages: textblob\n",
      "Successfully installed textblob-0.15.3\n"
     ]
    }
   ],
   "source": [
    "# Instalando a biblioteca\n",
    "!pip install -U textblob"
   ]
  },
  {
   "cell_type": "code",
   "execution_count": 33,
   "metadata": {},
   "outputs": [],
   "source": [
    "# Importando a biblioteca de polaridade\n",
    "from textblob import TextBlob as tb"
   ]
  },
  {
   "cell_type": "code",
   "execution_count": 34,
   "metadata": {},
   "outputs": [],
   "source": [
    "#Variável que irá armazenar as polaridades\n",
    "analysis = None\n",
    "#Lista vazia para armazenar as polaridades\n",
    "polarities = []"
   ]
  },
  {
   "cell_type": "markdown",
   "metadata": {},
   "source": [
    "### Calcula polaridade (sentiment.polarity)"
   ]
  },
  {
   "cell_type": "code",
   "execution_count": 35,
   "metadata": {},
   "outputs": [],
   "source": [
    "for tweet in tweets_df['Tweets']: #para cada tweet\n",
    "    analysis = tb(tweet)\n",
    "    polarity = analysis.sentiment.polarity #analisa a polaridade\n",
    "    polarities.append(polarity)"
   ]
  },
  {
   "cell_type": "code",
   "execution_count": 36,
   "metadata": {},
   "outputs": [],
   "source": [
    "for tweet in tweets_df['Tweets']: #para cada tweet\n",
    "    \n",
    "    polarity = tb(tweet).sentiment.polarity #analisa a polaridade\n",
    "    \n",
    "    polarities.append(polarity)"
   ]
  },
  {
   "cell_type": "code",
   "execution_count": 37,
   "metadata": {},
   "outputs": [
    {
     "name": "stdout",
     "output_type": "stream",
     "text": [
      "Vetor de polaridade: [0.0, 0.3333333333333333, 0.0, 0.0, 0.0, 0.0, -0.1, 0.0, 0.0, 0.0, 0.0, 0.0, 0.625, 0.0, 0.0, 0.0, 0.2, 0.0, 0.0, 0.0, 0.0, 0.0, 0.0, 0.0, 0.0, 0.0, -0.8, 0.0, 0.0, 0.0, 0.0, 0.0, 0.0, 0.03333333333333333, 0.0, 0.0, -0.1, 0.1, 0.0, 0.0, 0.03333333333333333, 0.0, 0.0, 0.1, 0.0, 0.0, 0.0, 0.0, 0.0, 0.0, 0.0, 0.0, 0.35, 0.0, 0.0, 0.1, 0.0, 0.0, 0.0, 0.0, 0.0, 0.0, 0.1, 0.0, 0.0, 0.0, 0.0, 0.0, 0.1, 0.0, 0.0, 0.1, 0.0, 0.0, 0.0, 0.0, 0.0, 0.1, 0.0, 0.0, 0.1, 0.1, 0.0, 0.025, 0.0, 0.0, 0.1, 0.0, 0.0, 0.1, 0.0, 0.0, -0.8, 0.0, 0.0, 0.0, 0.0, 0.1, 0.0, 0.0, 0.1, 0.1, 0.0, 0.1, 0.0, 0.0, 0.0, 0.0, 0.0, 0.0, 0.0, 0.0, 0.0, 0.0, 0.0, 0.0, 0.0, 0.0, 0.0, 0.0, 0.1, 0.05, 0.03333333333333333, 0.0, 0.0, 0.0, 0.0, 0.0, 0.0, 0.0, 0.0, 0.75, 0.0, 0.0, 0.0, 0.1, 0.0, 0.0, 0.0, 0.1, 0.2, 0.0, 0.0, 0.0, 0.75, 0.1, 0.0, 0.0, 0.0, 0.0, 0.0, 0.0, 0.0, 0.2, 0.0, 0.0, 0.0, 0.1, 0.0, 0.0, 0.0, 0.17045454545454544, 0.0, 0.0, 0.0, 0.0, 0.0, 0.0, 0.1, 0.0, 0.0, 0.0, 0.0, 0.4166666666666667, 0.0, 0.0, 0.0, 0.0, 0.1, 0.0, 0.1, 0.1, 0.0, 0.0, 0.0, 0.0, 0.1, 0.0, 0.0, 0.0, 0.0, 0.1, 0.0, 0.0, 0.0, 0.0, 0.0, 0.0, 0.0, 0.0, 0.0, 0.3333333333333333, 0.0, 0.0, 0.0, 0.0, -0.1, 0.0, 0.0, 0.0, 0.0, 0.0, 0.625, 0.0, 0.0, 0.0, 0.2, 0.0, 0.0, 0.0, 0.0, 0.0, 0.0, 0.0, 0.0, 0.0, -0.8, 0.0, 0.0, 0.0, 0.0, 0.0, 0.0, 0.03333333333333333, 0.0, 0.0, -0.1, 0.1, 0.0, 0.0, 0.03333333333333333, 0.0, 0.0, 0.1, 0.0, 0.0, 0.0, 0.0, 0.0, 0.0, 0.0, 0.0, 0.35, 0.0, 0.0, 0.1, 0.0, 0.0, 0.0, 0.0, 0.0, 0.0, 0.1, 0.0, 0.0, 0.0, 0.0, 0.0, 0.1, 0.0, 0.0, 0.1, 0.0, 0.0, 0.0, 0.0, 0.0, 0.1, 0.0, 0.0, 0.1, 0.1, 0.0, 0.025, 0.0, 0.0, 0.1, 0.0, 0.0, 0.1, 0.0, 0.0, -0.8, 0.0, 0.0, 0.0, 0.0, 0.1, 0.0, 0.0, 0.1, 0.1, 0.0, 0.1, 0.0, 0.0, 0.0, 0.0, 0.0, 0.0, 0.0, 0.0, 0.0, 0.0, 0.0, 0.0, 0.0, 0.0, 0.0, 0.0, 0.1, 0.05, 0.03333333333333333, 0.0, 0.0, 0.0, 0.0, 0.0, 0.0, 0.0, 0.0, 0.75, 0.0, 0.0, 0.0, 0.1, 0.0, 0.0, 0.0, 0.1, 0.2, 0.0, 0.0, 0.0, 0.75, 0.1, 0.0, 0.0, 0.0, 0.0, 0.0, 0.0, 0.0, 0.2, 0.0, 0.0, 0.0, 0.1, 0.0, 0.0, 0.0, 0.17045454545454544, 0.0, 0.0, 0.0, 0.0, 0.0, 0.0, 0.1, 0.0, 0.0, 0.0, 0.0, 0.4166666666666667, 0.0, 0.0, 0.0, 0.0, 0.1, 0.0, 0.1, 0.1, 0.0, 0.0, 0.0, 0.0, 0.1, 0.0, 0.0, 0.0, 0.0, 0.1, 0.0, 0.0, 0.0, 0.0, 0.0, 0.0, 0.0, 0.0]\n"
     ]
    }
   ],
   "source": [
    "print('Vetor de polaridade:',polarities)"
   ]
  },
  {
   "cell_type": "markdown",
   "metadata": {},
   "source": [
    "Para Tweets em Português:"
   ]
  },
  {
   "cell_type": "code",
   "execution_count": 39,
   "metadata": {},
   "outputs": [
    {
     "name": "stdout",
     "output_type": "stream",
     "text": [
      "Collecting unidecode\n",
      "  Using cached Unidecode-1.1.1-py2.py3-none-any.whl (238 kB)\n",
      "Installing collected packages: unidecode\n",
      "Successfully installed unidecode-1.1.1\n"
     ]
    }
   ],
   "source": [
    "!pip install unidecode"
   ]
  },
  {
   "cell_type": "code",
   "execution_count": 40,
   "metadata": {},
   "outputs": [],
   "source": [
    "from unidecode import unidecode"
   ]
  },
  {
   "cell_type": "code",
   "execution_count": 41,
   "metadata": {},
   "outputs": [
    {
     "name": "stdout",
     "output_type": "stream",
     "text": [
      "Processing c:\\users\\ferna\\appdata\\local\\pip\\cache\\wheels\\20\\da\\eb\\a54579056f265eede0417df537dd56d3df5b9eb2b25df0003d\\googletrans-3.0.0-py3-none-any.whl\n",
      "Collecting httpx==0.13.3\n",
      "  Using cached httpx-0.13.3-py3-none-any.whl (55 kB)\n",
      "Requirement already satisfied: certifi in c:\\users\\ferna\\anaconda3\\lib\\site-packages (from httpx==0.13.3->googletrans) (2020.6.20)\n",
      "Collecting rfc3986<2,>=1.3\n",
      "  Using cached rfc3986-1.4.0-py2.py3-none-any.whl (31 kB)\n",
      "Collecting httpcore==0.9.*\n",
      "  Using cached httpcore-0.9.1-py3-none-any.whl (42 kB)\n",
      "Collecting sniffio\n",
      "  Using cached sniffio-1.1.0-py3-none-any.whl (4.5 kB)\n",
      "Collecting hstspreload\n",
      "  Downloading hstspreload-2020.9.2-py3-none-any.whl (950 kB)\n",
      "Requirement already satisfied: chardet==3.* in c:\\users\\ferna\\anaconda3\\lib\\site-packages (from httpx==0.13.3->googletrans) (3.0.4)\n",
      "Requirement already satisfied: idna==2.* in c:\\users\\ferna\\anaconda3\\lib\\site-packages (from httpx==0.13.3->googletrans) (2.9)\n",
      "Collecting h11<0.10,>=0.8\n",
      "  Using cached h11-0.9.0-py2.py3-none-any.whl (53 kB)\n",
      "Collecting h2==3.*\n",
      "  Using cached h2-3.2.0-py2.py3-none-any.whl (65 kB)\n",
      "Collecting hpack<4,>=3.0\n",
      "  Using cached hpack-3.0.0-py2.py3-none-any.whl (38 kB)\n",
      "Collecting hyperframe<6,>=5.2.0\n",
      "  Using cached hyperframe-5.2.0-py2.py3-none-any.whl (12 kB)\n",
      "Installing collected packages: rfc3986, h11, hpack, hyperframe, h2, sniffio, httpcore, hstspreload, httpx, googletrans\n",
      "Successfully installed googletrans-3.0.0 h11-0.9.0 h2-3.2.0 hpack-3.0.0 hstspreload-2020.9.2 httpcore-0.9.1 httpx-0.13.3 hyperframe-5.2.0 rfc3986-1.4.0 sniffio-1.1.0\n"
     ]
    }
   ],
   "source": [
    "# Importar biblioteca para traduzir os tweets\n",
    "!pip install googletrans"
   ]
  },
  {
   "cell_type": "code",
   "execution_count": 44,
   "metadata": {},
   "outputs": [],
   "source": [
    "# Importar a biblioteca para a tradução de tweets\n",
    "from googletrans import Translator"
   ]
  },
  {
   "cell_type": "code",
   "execution_count": 45,
   "metadata": {},
   "outputs": [
    {
     "data": {
      "text/plain": [
       "'AMEI, AMEI, AMEII!!!! Obrigada aos goianos responsáveis pelo lindo outdoor. Antes víamos milhares de brasileiros com vergonha da classe política, hoje vejo milhões contentes com esse super time do Presidente @jairbolsonaro.🇧🇷  #governobolsonaro https://t.co/qupRRh4Wze'"
      ]
     },
     "execution_count": 45,
     "metadata": {},
     "output_type": "execute_result"
    }
   ],
   "source": [
    "# Vendo o primeiro tweet encontrado\n",
    "tweets_df['Tweets'][1]"
   ]
  },
  {
   "cell_type": "code",
   "execution_count": 47,
   "metadata": {},
   "outputs": [],
   "source": [
    "# Passando os tweets em português para o inglês\n",
    "textPT = unidecode(tweets_df['Tweets'][1])\n",
    "textEN = Translator().translate(textPT)"
   ]
  },
  {
   "cell_type": "code",
   "execution_count": 48,
   "metadata": {},
   "outputs": [
    {
     "data": {
      "text/plain": [
       "'LOVED, LOVED, LOVED !!!! Thanks to the people from Goiás responsible for the beautiful billboard. Before we saw thousands of Brazilians ashamed of the political class, today I see millions happy with this super team of President @jairbolsonaro. #governobolsonaro https://t.co/qupRRh4Wze'"
      ]
     },
     "execution_count": 48,
     "metadata": {},
     "output_type": "execute_result"
    }
   ],
   "source": [
    "textEN.text"
   ]
  },
  {
   "cell_type": "code",
   "execution_count": 49,
   "metadata": {},
   "outputs": [],
   "source": [
    "analysis = tb(textEN.text)\n",
    "# Calculando a polaridade do texto traduzido\n",
    "polarity = analysis.sentiment.polarity # analisa a polaridade"
   ]
  },
  {
   "cell_type": "code",
   "execution_count": 50,
   "metadata": {},
   "outputs": [
    {
     "data": {
      "text/plain": [
       "0.5314814814814814"
      ]
     },
     "execution_count": 50,
     "metadata": {},
     "output_type": "execute_result"
    }
   ],
   "source": [
    "polarity"
   ]
  },
  {
   "cell_type": "code",
   "execution_count": 51,
   "metadata": {},
   "outputs": [],
   "source": [
    "polaridades = []"
   ]
  },
  {
   "cell_type": "code",
   "execution_count": 53,
   "metadata": {},
   "outputs": [],
   "source": [
    "for tweet in tweets_df['Tweets']: #para cada tweet\n",
    "    #texto do tweet\n",
    "    textPT = unidecode(tweet)\n",
    "    \n",
    "    #Traduzindo para o inglês\n",
    "    textEN = Translator().translate(textPT)\n",
    "    \n",
    "    analysis = tb(textEN.text)\n",
    "    #Calculando a polaridade do texto traduzido\n",
    "    polaridade = analysis.sentiment.polarity # analisa a polaridade\n",
    "    polaridades.append(polaridade)"
   ]
  },
  {
   "cell_type": "code",
   "execution_count": 54,
   "metadata": {},
   "outputs": [
    {
     "name": "stdout",
     "output_type": "stream",
     "text": [
      "Vetor de polaridade: [0.0, 0.5314814814814814, 0.375, 0.0, -0.6125, -0.0625, -0.025, 0.0, -0.04999999999999999, -0.1, 0.375, 0.1, 0.3204545454545455, 0.0, 0.09523809523809523, -0.1, 0.2, 0.25, -0.05, 0.525, 0.0, 0.052000000000000005, 0.16428571428571428, 0.20000000000000004, 0.0, 0.0, -0.10000000000000003, 0.30333333333333334, 0.2, 0.0, -0.125, 0.2857142857142857, 0.0, 0.016666666666666666, 0.12222222222222223, 0.13636363636363635, -0.05, 0.025, 0.1766666666666667, -0.35, 0.11851851851851854, -0.26166666666666666, -0.43333333333333335, 0.4625, 0.2, 0.171875, 0.06500000000000002, -0.025, -0.18750000000000003, 0.0, 0.19375, 0.04545454545454545, 0.25, 0.22545454545454544, 0.29000000000000004, 0.4625, -0.05, 0.0, 0.0, 0.27142857142857146, 0.0, -0.15, 0.4625, 0.0, 0.5, 0.0, 0.22545454545454544, 0.16428571428571428, 0.4625, -0.125, -0.12121212121212122, 0.4625, 0.4681818181818182, 0.0, -0.6999999999999998, 0.2555555555555556, -0.6, 0.4625, 0.15, 0.15416666666666667, 0.4625, 0.4625, 0.6, -0.1297979797979798, -0.18333333333333335, 0.23714285714285716, 0.4625, -0.6, 0.3, 0.4625, 0.08333333333333333, 0.0, -0.8, 0.0, 0.0, -0.3, 0.0, 0.4625, 0.0, 0.4041666666666666, 0.4625, 0.4625, 0.2, 0.4625, 0.0, 0.0, 0.0, 0.0, 0.0, 0.05909090909090908, -0.3, 0.06818181818181818, -0.3333333333333333, -0.08333333333333333, -0.25, 0.0, 0.33714285714285713, -0.2, 0.06500000000000002, -0.3166666666666667, 0.025, 0.07857142857142857, 0.016666666666666666, 0.2, 0.1284375, -0.11249999999999999, 0.05, 0.25, 0.45833333333333337, 0.0, -0.15000000000000002, 0.21727272727272728, -0.005050505050505051, 0.6, 0.25, 0.4625, 0.0, 0.2, 0.2333333333333333, 0.4625, 0.0, 0.5314814814814814, 0.375, 0.0, -0.6125, -0.0625, -0.025, 0.0, -0.04999999999999999, -0.1, 0.375, 0.1, 0.3204545454545455, 0.0, 0.09523809523809523, -0.1, 0.2, 0.25, -0.05, 0.525, 0.0, 0.052000000000000005, 0.16428571428571428, 0.20000000000000004, 0.0, 0.0, -0.10000000000000003, 0.30333333333333334, 0.2, 0.0, -0.125, 0.2857142857142857, 0.0, 0.016666666666666666, 0.12222222222222223, 0.13636363636363635, -0.05, 0.025, 0.1766666666666667, -0.35, 0.11851851851851854, -0.26166666666666666, -0.43333333333333335, 0.4625, 0.2, 0.171875, 0.06500000000000002, -0.025, -0.18750000000000003, 0.0, 0.19375, 0.04545454545454545, 0.25, 0.22545454545454544, 0.29000000000000004, 0.4625, -0.05, 0.0, 0.0, 0.27142857142857146, 0.0, -0.15, 0.4625, 0.0, 0.5, 0.0, 0.22545454545454544, 0.16428571428571428, 0.4625, -0.125, -0.12121212121212122, 0.4625, 0.4681818181818182, 0.0, -0.6999999999999998, 0.2555555555555556, -0.6, 0.4625, 0.15, 0.15416666666666667, 0.4625, 0.4625, 0.6, -0.1297979797979798, -0.18333333333333335, 0.23714285714285716, 0.4625, -0.6, 0.3, 0.4625, 0.08333333333333333, 0.0, -0.8, 0.0, 0.0, -0.3, 0.0, 0.4625, 0.0, 0.4041666666666666, 0.4625, 0.4625, 0.2, 0.4625, 0.0, 0.0, 0.0, 0.0, 0.0, 0.05909090909090908, -0.3, 0.06818181818181818, -0.3333333333333333, -0.08333333333333333, -0.25, 0.0, 0.33714285714285713, -0.2, 0.06500000000000002, -0.3166666666666667, 0.025, 0.07857142857142857, 0.016666666666666666, 0.2, 0.1284375, -0.11249999999999999, 0.05, 0.25, 0.45833333333333337, 0.0, -0.15000000000000002, 0.21727272727272728, -0.005050505050505051, 0.6, 0.25, 0.4625, 0.0, 0.2, 0.2333333333333333, 0.4625, 0.2, 0.05, 0.0, 0.0, 0.21727272727272728, 0.4625, -0.0625, 0.06818181818181818, -0.18249999999999994, 0.06818181818181818, 0.0, 0.0, 0.06500000000000002, 0.2, 0.06818181818181818, 0.0, 0.4, 0.4625, 0.3775, -0.4, -0.125, 0.17045454545454544, 0.0, 0.16666666666666666, 0.0, 0.0, 0.5, 0.0, 0.20833333333333334, 0.0, -0.05932539682539683, -0.11547619047619047, 0.0, 0.3433333333333334, -0.73828125, 0.29000000000000004, 0.0, -0.73828125, 0.4625, 0.125, 0.4625, 0.4625, 0.6, 0.0, -0.3125, 0.06500000000000002, 0.4625, 0.0, -0.4, 0.0, 0.35, 0.4625, 0.0, 0.425, 0.0, 0.0, 0.25, 0.20000000000000004, 0.45833333333333337, -0.175]\n"
     ]
    }
   ],
   "source": [
    "print('Vetor de polaridade:',polaridades)"
   ]
  },
  {
   "cell_type": "markdown",
   "metadata": {},
   "source": [
    "### Análise de sentimentos"
   ]
  },
  {
   "cell_type": "code",
   "execution_count": 55,
   "metadata": {},
   "outputs": [
    {
     "name": "stdout",
     "output_type": "stream",
     "text": [
      "Para a(s) palavras(s):\"%s\" % keyword\n",
      "A média de sentimento é: 0.09129432905738052\n"
     ]
    }
   ],
   "source": [
    "print('Para a(s) palavras(s):\"%s\" % keyword')\n",
    "print('A média de sentimento é: ' + str(np.mean(polaridades)))"
   ]
  },
  {
   "cell_type": "code",
   "execution_count": 56,
   "metadata": {},
   "outputs": [],
   "source": [
    "positive = 0\n",
    "negative = 0\n",
    "neutral = 0\n",
    "for polaridade in polaridades:\n",
    "    if polaridade > 0:\n",
    "        positive = positive+1\n",
    "    elif polaridade < 0:\n",
    "        negative = negative+1\n",
    "    else:\n",
    "        neutral = neutral+1\n",
    "\n",
    "# Calcular percentual\n",
    "pos_pct=positive*100/len(polaridades)\n",
    "neg_pct=negative*100/len(polaridades)\n",
    "neu_pct=neutral*100/len(polaridades)"
   ]
  },
  {
   "cell_type": "code",
   "execution_count": 57,
   "metadata": {},
   "outputs": [],
   "source": [
    "#Define variáveis\n",
    "sentiments = ['Positivos', 'Negativos','Neutros']\n",
    "percents = [pos_pct, neg_pct, neu_pct]"
   ]
  },
  {
   "cell_type": "code",
   "execution_count": 58,
   "metadata": {},
   "outputs": [
    {
     "data": {
      "text/plain": [
       "[53.8235294117647, 23.823529411764707, 22.352941176470587]"
      ]
     },
     "execution_count": 58,
     "metadata": {},
     "output_type": "execute_result"
    }
   ],
   "source": [
    "percents"
   ]
  },
  {
   "cell_type": "code",
   "execution_count": 59,
   "metadata": {},
   "outputs": [],
   "source": [
    "# Criar uma array (series) denominada pie_chart com os valores da variável percents\n",
    "# Onde o índice da array equivale aos valores da variável sentiments.\n",
    "\n",
    "pie_chart = pd.Series(percents, index=sentiments,name='')"
   ]
  },
  {
   "cell_type": "code",
   "execution_count": 60,
   "metadata": {},
   "outputs": [
    {
     "data": {
      "text/plain": [
       "Positivos    53.823529\n",
       "Negativos    23.823529\n",
       "Neutros      22.352941\n",
       "Name: , dtype: float64"
      ]
     },
     "execution_count": 60,
     "metadata": {},
     "output_type": "execute_result"
    }
   ],
   "source": [
    "pie_chart"
   ]
  },
  {
   "cell_type": "code",
   "execution_count": 61,
   "metadata": {},
   "outputs": [
    {
     "data": {
      "text/plain": [
       "<matplotlib.axes._subplots.AxesSubplot at 0x27232ddeeb8>"
      ]
     },
     "execution_count": 61,
     "metadata": {},
     "output_type": "execute_result"
    },
    {
     "data": {
      "image/png": "[encoded data removed]",
      "text/plain": [
       "<Figure size 360x360 with 1 Axes>"
      ]
     },
     "metadata": {},
     "output_type": "display_data"
    }
   ],
   "source": [
    "# Gerar o gráfico de pizza\n",
    "\n",
    "pie_chart.plot.pie(fontsize=12, autopct='%.2f', figsize=(5,5), labels=pie_chart.index,\n",
    "                  title=\"Análise de Sentimentos tweets\")"
   ]
  },
  {
   "cell_type": "markdown",
   "metadata": {},
   "source": [
    "### Modelo alternativo de gráfico:"
   ]
  },
  {
   "cell_type": "code",
   "execution_count": 62,
   "metadata": {},
   "outputs": [
    {
     "data": {
      "text/plain": [
       "<matplotlib.axes._subplots.AxesSubplot at 0x27232dc0860>"
      ]
     },
     "execution_count": 62,
     "metadata": {},
     "output_type": "execute_result"
    },
    {
     "data": {
      "image/png": "[encoded data removed]",
      "text/plain": [
       "<Figure size 216x216 with 1 Axes>"
      ]
     },
     "metadata": {},
     "output_type": "display_data"
    }
   ],
   "source": [
    "explode = (0.1,0,0) # Separar o primeiro\n",
    "pie_chart.plot.pie(fontsize=12, explode=explode,\n",
    "                  autopct='%.2f%%', shadow=True, figsize=(3,3),\n",
    "                  title=\"Análise de sentimentos tweets\")"
   ]
  },
  {
   "cell_type": "code",
   "execution_count": 63,
   "metadata": {},
   "outputs": [
    {
     "data": {
      "text/plain": [
       "<matplotlib.axes._subplots.AxesSubplot at 0x27232d9d630>"
      ]
     },
     "execution_count": 63,
     "metadata": {},
     "output_type": "execute_result"
    },
    {
     "data": {
      "image/png": "[encoded data removed]",
      "text/plain": [
       "<Figure size 216x216 with 1 Axes>"
      ]
     },
     "metadata": {},
     "output_type": "display_data"
    }
   ],
   "source": [
    "explode = (0.2,0,0) # Separa o primeiro\n",
    "pie_chart.plot.pie(fontsize=8, explode=explode,\n",
    "                  autopct='%.2f%%', shadow=True, figsize=(3,3),\n",
    "                  title=\"Análise de sentimentos tweets\")"
   ]
  },
  {
   "cell_type": "code",
   "execution_count": 64,
   "metadata": {},
   "outputs": [
    {
     "data": {
      "text/plain": [
       "<matplotlib.axes._subplots.AxesSubplot at 0x27232d7b860>"
      ]
     },
     "execution_count": 64,
     "metadata": {},
     "output_type": "execute_result"
    },
    {
     "data": {
      "image/png": "[encoded data removed]",
      "text/plain": [
       "<Figure size 216x216 with 1 Axes>"
      ]
     },
     "metadata": {},
     "output_type": "display_data"
    }
   ],
   "source": [
    "explode = (0.1,0.1,0.1)# Sepra os três\n",
    "pie_chart.plot.pie(fontsize=8, explode=explode,\n",
    "                  autopct='%.2f%%', shadow=True, figsize=(3,3),\n",
    "                  title=\"Análise de sentimentos tweets\")"
   ]
  },
  {
   "cell_type": "code",
   "execution_count": 65,
   "metadata": {},
   "outputs": [
    {
     "data": {
      "image/png": "[encoded data removed]",
      "text/plain": [
       "<Figure size 432x288 with 1 Axes>"
      ]
     },
     "metadata": {},
     "output_type": "display_data"
    }
   ],
   "source": [
    "# usando pacote Matplotlib\n",
    "plt.pie(percents, autopct='%1.1f%%', startangle=90)\n",
    "plt.legend(sentiments, loc=\"best\")\n",
    "plt.tight_layout()\n",
    "plt.show()"
   ]
  },
  {
   "cell_type": "markdown",
   "metadata": {},
   "source": [
    "### Mapa de calor dos tweets"
   ]
  },
  {
   "cell_type": "code",
   "execution_count": 67,
   "metadata": {},
   "outputs": [
    {
     "name": "stdout",
     "output_type": "stream",
     "text": [
      "Collecting geopy\n",
      "  Downloading geopy-2.0.0-py3-none-any.whl (111 kB)\n",
      "Collecting geographiclib<2,>=1.49\n",
      "  Downloading geographiclib-1.50-py3-none-any.whl (38 kB)\n",
      "Installing collected packages: geographiclib, geopy\n",
      "Successfully installed geographiclib-1.50 geopy-2.0.0\n"
     ]
    }
   ],
   "source": [
    "!pip install geopy"
   ]
  },
  {
   "cell_type": "code",
   "execution_count": 69,
   "metadata": {},
   "outputs": [
    {
     "name": "stdout",
     "output_type": "stream",
     "text": [
      "Collecting folium\n",
      "  Downloading folium-0.11.0-py2.py3-none-any.whl (93 kB)\n",
      "Requirement already satisfied: jinja2>=2.9 in c:\\users\\ferna\\anaconda3\\lib\\site-packages (from folium) (2.11.1)\n",
      "Requirement already satisfied: requests in c:\\users\\ferna\\anaconda3\\lib\\site-packages (from folium) (2.23.0)\n",
      "Requirement already satisfied: numpy in c:\\users\\ferna\\anaconda3\\lib\\site-packages (from folium) (1.18.1)\n",
      "Collecting branca>=0.3.0\n",
      "  Downloading branca-0.4.1-py3-none-any.whl (24 kB)\n",
      "Requirement already satisfied: MarkupSafe>=0.23 in c:\\users\\ferna\\anaconda3\\lib\\site-packages (from jinja2>=2.9->folium) (1.1.1)\n",
      "Requirement already satisfied: idna<3,>=2.5 in c:\\users\\ferna\\anaconda3\\lib\\site-packages (from requests->folium) (2.9)\n",
      "Requirement already satisfied: chardet<4,>=3.0.2 in c:\\users\\ferna\\anaconda3\\lib\\site-packages (from requests->folium) (3.0.4)\n",
      "Requirement already satisfied: urllib3!=1.25.0,!=1.25.1,<1.26,>=1.21.1 in c:\\users\\ferna\\anaconda3\\lib\\site-packages (from requests->folium) (1.25.8)\n",
      "Requirement already satisfied: certifi>=2017.4.17 in c:\\users\\ferna\\anaconda3\\lib\\site-packages (from requests->folium) (2020.6.20)\n",
      "Installing collected packages: branca, folium\n",
      "Successfully installed branca-0.4.1 folium-0.11.0\n"
     ]
    }
   ],
   "source": [
    "!pip install folium"
   ]
  },
  {
   "cell_type": "code",
   "execution_count": 70,
   "metadata": {},
   "outputs": [],
   "source": [
    "# Trabalhando com mapas\n",
    "from geopy.geocoders import Nominatim\n",
    "import folium\n",
    "from folium import plugins"
   ]
  },
  {
   "cell_type": "markdown",
   "metadata": {},
   "source": [
    "### Funcionamento"
   ]
  },
  {
   "cell_type": "code",
   "execution_count": 71,
   "metadata": {},
   "outputs": [],
   "source": [
    "# Como saber a latitude de determinada região usando o nome do estado\n",
    "locator = Nominatim(user_agent=\"student\")\n",
    "exemplo = locator.geocode(\"Fernando de noronha\")"
   ]
  },
  {
   "cell_type": "code",
   "execution_count": 72,
   "metadata": {},
   "outputs": [
    {
     "data": {
      "text/plain": [
       "Location(Parque Nacional Marinho de Fernando de Noronha, Pernambuco, Região Nordeste, Brasil, (-3.8545643, -32.37861623300567, 0.0))"
      ]
     },
     "execution_count": 72,
     "metadata": {},
     "output_type": "execute_result"
    }
   ],
   "source": [
    "exemplo"
   ]
  },
  {
   "cell_type": "code",
   "execution_count": 73,
   "metadata": {},
   "outputs": [
    {
     "name": "stdout",
     "output_type": "stream",
     "text": [
      "A latitude de Fernando de Noronha é -3.8545643 .\n",
      "A longitude de Fernando é -32.37861623300567\n"
     ]
    }
   ],
   "source": [
    "print('A latitude de Fernando de Noronha é %s .' % exemplo.latitude)\n",
    "print('A longitude de Fernando é %s' % exemplo.longitude)"
   ]
  },
  {
   "cell_type": "code",
   "execution_count": 74,
   "metadata": {},
   "outputs": [],
   "source": [
    "geolocator = Nominatim(user_agent=\"TwitterSentimentAnalysis\")\n",
    "\n",
    "#Lista para armazenar a latitude e a longitude\n",
    "latitude = []\n",
    "longitude = []\n",
    "\n",
    "for user_location in tweets_df['User Location']:\n",
    "    try:\n",
    "        location = geolocator.geocode(user_location)\n",
    "        latitude.append(location.latitude)\n",
    "        longitude.append(location.longitude)\n",
    "    except:\n",
    "        continue\n",
    "    "
   ]
  },
  {
   "cell_type": "code",
   "execution_count": 75,
   "metadata": {},
   "outputs": [
    {
     "data": {
      "text/html": [
       "<div style=\"width:100%;\"><div style=\"position:relative;width:100%;height:0;padding-bottom:60%;\"><span style=\"color:#565656\">Make this Notebook Trusted to load map: File -> Trust Notebook</span><iframe src=\"about:blank\" style=\"position:absolute;width:100%;height:100%;left:0;top:0;border:none !important;\" data-html=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 onload=\"this.contentDocument.open();this.contentDocument.write(atob(this.getAttribute('data-html')));this.contentDocument.close();\" allowfullscreen webkitallowfullscreen mozallowfullscreen></iframe></div></div>"
      ],
      "text/plain": [
       "<folium.folium.Map at 0x27232de5ef0>"
      ]
     },
     "execution_count": 75,
     "metadata": {},
     "output_type": "execute_result"
    }
   ],
   "source": [
    "coordenadas = np.column_stack((latitude, longitude))\n",
    "\n",
    "mapa = folium.Map(zoom_start=3.)\n",
    "mapa.add_child(plugins.HeatMap(coordenadas))\n",
    "mapa.save('Mapa_Calor_covid_en_Turm3.html')\n",
    "mapa"
   ]
  },
  {
   "cell_type": "markdown",
   "metadata": {},
   "source": [
    "### Nuvem de palavras"
   ]
  },
  {
   "cell_type": "code",
   "execution_count": 78,
   "metadata": {},
   "outputs": [
    {
     "name": "stdout",
     "output_type": "stream",
     "text": [
      "Collecting wordcloud\n",
      "  Downloading wordcloud-1.8.0-cp37-cp37m-win_amd64.whl (157 kB)\n",
      "Requirement already satisfied: pillow in c:\\users\\ferna\\anaconda3\\lib\\site-packages (from wordcloud) (7.0.0)\n",
      "Requirement already satisfied: numpy>=1.6.1 in c:\\users\\ferna\\anaconda3\\lib\\site-packages (from wordcloud) (1.18.1)\n",
      "Requirement already satisfied: matplotlib in c:\\users\\ferna\\anaconda3\\lib\\site-packages (from wordcloud) (3.2.1)\n",
      "Requirement already satisfied: cycler>=0.10 in c:\\users\\ferna\\anaconda3\\lib\\site-packages (from matplotlib->wordcloud) (0.10.0)\n",
      "Requirement already satisfied: kiwisolver>=1.0.1 in c:\\users\\ferna\\anaconda3\\lib\\site-packages (from matplotlib->wordcloud) (1.1.0)\n",
      "Requirement already satisfied: pyparsing!=2.0.4,!=2.1.2,!=2.1.6,>=2.0.1 in c:\\users\\ferna\\anaconda3\\lib\\site-packages (from matplotlib->wordcloud) (2.4.6)\n",
      "Requirement already satisfied: python-dateutil>=2.1 in c:\\users\\ferna\\anaconda3\\lib\\site-packages (from matplotlib->wordcloud) (2.8.1)\n",
      "Requirement already satisfied: six in c:\\users\\ferna\\anaconda3\\lib\\site-packages (from cycler>=0.10->matplotlib->wordcloud) (1.14.0)\n",
      "Requirement already satisfied: setuptools in c:\\users\\ferna\\anaconda3\\lib\\site-packages (from kiwisolver>=1.0.1->matplotlib->wordcloud) (46.1.3.post20200330)\n",
      "Installing collected packages: wordcloud\n",
      "Successfully installed wordcloud-1.8.0\n"
     ]
    }
   ],
   "source": [
    "!pip install wordcloud"
   ]
  },
  {
   "cell_type": "code",
   "execution_count": 79,
   "metadata": {},
   "outputs": [],
   "source": [
    "from wordcloud import WordCloud, STOPWORDS"
   ]
  },
  {
   "cell_type": "code",
   "execution_count": 82,
   "metadata": {},
   "outputs": [
    {
     "data": {
      "text/plain": [
       "\"'AMEI, AMEI, AMEII!!!! Obrigada aos goianos responsáveis pelo lindo outdoor. Antes víamos milhares de brasileiros com vergonha da classe política, hoje vejo milhões contentes com esse super time do Presidente @jairbolsonaro.🇧🇷  #governobolsonaro https://t.co/qupRRh4Wze'\""
      ]
     },
     "execution_count": 82,
     "metadata": {},
     "output_type": "execute_result"
    }
   ],
   "source": [
    "# Usando frase encontrada do twitter para forma uma nuvem de palavras\n",
    "sentenca = \"'AMEI, AMEI, AMEII!!!! Obrigada aos goianos responsáveis pelo lindo outdoor. Antes víamos milhares de brasileiros com vergonha da classe política, hoje vejo milhões contentes com esse super time do Presidente @jairbolsonaro.🇧🇷  #governobolsonaro https://t.co/qupRRh4Wze'\"\n",
    "sentenca"
   ]
  },
  {
   "cell_type": "code",
   "execution_count": 83,
   "metadata": {},
   "outputs": [
    {
     "data": {
      "text/plain": [
       "[\"'AMEI,\",\n",
       " 'AMEI,',\n",
       " 'AMEII!!!!',\n",
       " 'Obrigada',\n",
       " 'aos',\n",
       " 'goianos',\n",
       " 'responsáveis',\n",
       " 'pelo',\n",
       " 'lindo',\n",
       " 'outdoor.',\n",
       " 'Antes',\n",
       " 'víamos',\n",
       " 'milhares',\n",
       " 'de',\n",
       " 'brasileiros',\n",
       " 'com',\n",
       " 'vergonha',\n",
       " 'da',\n",
       " 'classe',\n",
       " 'política,',\n",
       " 'hoje',\n",
       " 'vejo',\n",
       " 'milhões',\n",
       " 'contentes',\n",
       " 'com',\n",
       " 'esse',\n",
       " 'super',\n",
       " 'time',\n",
       " 'do',\n",
       " 'Presidente',\n",
       " '@jairbolsonaro.🇧🇷',\n",
       " '#governobolsonaro',\n",
       " \"https://t.co/qupRRh4Wze'\"]"
      ]
     },
     "execution_count": 83,
     "metadata": {},
     "output_type": "execute_result"
    }
   ],
   "source": [
    "# Separando cada palavra\n",
    "palavras = sentenca.split()\n",
    "palavras"
   ]
  },
  {
   "cell_type": "code",
   "execution_count": 84,
   "metadata": {},
   "outputs": [],
   "source": [
    "# Fazer limpeza do texto tirando caracteres especiais para análise\n",
    "palavras = []\n",
    "for palavra in sentenca.split():\n",
    "    if 'https' not in palavra and not palavra.startswith('@') and not palavra.startswith('#'):\n",
    "        palavras.append(palavra)"
   ]
  },
  {
   "cell_type": "code",
   "execution_count": 86,
   "metadata": {},
   "outputs": [
    {
     "data": {
      "text/plain": [
       "[\"'AMEI,\",\n",
       " 'AMEI,',\n",
       " 'AMEII!!!!',\n",
       " 'Obrigada',\n",
       " 'aos',\n",
       " 'goianos',\n",
       " 'responsáveis',\n",
       " 'pelo',\n",
       " 'lindo',\n",
       " 'outdoor.',\n",
       " 'Antes',\n",
       " 'víamos',\n",
       " 'milhares',\n",
       " 'de',\n",
       " 'brasileiros',\n",
       " 'com',\n",
       " 'vergonha',\n",
       " 'da',\n",
       " 'classe',\n",
       " 'política,',\n",
       " 'hoje',\n",
       " 'vejo',\n",
       " 'milhões',\n",
       " 'contentes',\n",
       " 'com',\n",
       " 'esse',\n",
       " 'super',\n",
       " 'time',\n",
       " 'do',\n",
       " 'Presidente']"
      ]
     },
     "execution_count": 86,
     "metadata": {},
     "output_type": "execute_result"
    }
   ],
   "source": [
    "# Veja que foi removido o sinal de arroba, o sinal de hashtag e o https do site.\n",
    "palavras"
   ]
  },
  {
   "cell_type": "markdown",
   "metadata": {},
   "source": [
    "## Usando as informações do tweeter"
   ]
  },
  {
   "cell_type": "code",
   "execution_count": 87,
   "metadata": {},
   "outputs": [],
   "source": [
    "words = ' '.join(tweets_df['Tweets'])"
   ]
  },
  {
   "cell_type": "markdown",
   "metadata": {},
   "source": [
    "### Limpeza de dados"
   ]
  },
  {
   "cell_type": "code",
   "execution_count": 88,
   "metadata": {},
   "outputs": [],
   "source": [
    "import re"
   ]
  },
  {
   "cell_type": "code",
   "execution_count": 89,
   "metadata": {},
   "outputs": [
    {
     "data": {
      "text/plain": [
       "'\"Vou fechar a economia até surgir a vacina. Quando surgir vou obrigar todos a tomar. Sobre a cloroquina, só meus médicos podem usar (e talvez euzinho). Enquanto isso, ponha sua máscara, fique em casa e cale a boca. Tudo culpa do presidente\".  Esse é o democrata exemplar da mídia. AMEI, AMEI, AMEII!!!! Obrigada aos goianos responsáveis pelo lindo outdoor. Antes víamos milhares de brasileiros com vergonha da classe política, hoje vejo milhões contentes com esse super time do Presidente @jairbolsonaro.🇧🇷  #governobolsonaro https://t.co/qupRRh4Wze O maior castigo para aqueles que não se interessam por política, é que serão governados pelos que se interessam.   (Arnold Toynbee)  #bomdia Assembleia aprova projeto que proíbe distribuição de sacolas plásticas não biodegradáveis no Ceará - Política - Diário do Nordeste https://t.co/1SHuwR67Uz “Gripezinha, resfriadinho, fantasia, salvar economia, não sou coveiro...”   Bolsonaro é culpado! https://t.co/IkG3hx8mCt 31 mil reais POR DIA. Eis o gasto de \\u2066@jairbolsonaro\\u2069 com o cartão corporativo, cujos demonstrativos são - por obra e graça do miliciano - mantidos em sigilo.  https://t.co/XFPBbV2Wyt A campanha midiática internacional contra Bolsonaro, representada por um vídeo que sugere a destruição da Amazônia, é uma peça de propaganda política montada por globalistas, contra a soberania do Brasil, além de ser uma óbvia MENTIRA.  #DefundGlobalists Frente da reforma administrativa elogia texto; oposição cita desigualdade https://t.co/NRO6A2CgoK maravilhas como esta não se inventam.  a lei que define o que é que são faltas justificadas, e que serviu para chumbar os alunos de famalicão, é da autoria do governo passos coelho e promulgada pelo presidente da república cavaco silva.  https://t.co/Uz6NBe2WRD Regras da reforma administrativa não afetam juiz, parlamentar e militar https://t.co/Mxq4wJQp9X O maior castigo para aqueles que não se interessam por política, é que serão governados pelos que se interessam.   (Arnold Toynbee)  #bomdia Única função dos ministros do STF atualmente é criticar, atrapalhar  e com isso impedir que @jairbolsonaro governe.  Os quase 60 milhões de votos não significaram nada para eles. Vale o que “Eles” querem/pensam.  Nós só servimos para pagar por tudo.   https://t.co/0y28swD22R A Lana na nova era quer ser bruxa, camponesa, madame do século 19, assassina, assassinada, política, alienada, sexual e recatada, a farofona! https://t.co/WbRySowG90 Golpe na Bolívia teve esquema de sustentação no Facebook e no twitter https://t.co/MvnEh6Qblg @UOLNoticias \"A PEC do teto vai melhorar a Economia\", \"a reforma trabalhista vai gerar milhões de empregos\", \"a reforma da Previdência vai acabar com os privilégios\", \"seiscentos reais de Auxílio Emergencial é muito\"...      A barata (pobre de direita) elegeu o chinelo e o inseticida. - ELEIÇÕES MUNICIPAIS:  - Decidi não participar, no 1° turno, nas eleições para prefeitos em todo o Brasil.  - Tenho muito trabalho na presidência e, tal atividade, tomaria todo meu tempo num momento de pandemia e retomada da nossa economia. Nota de R$ 200 é a sétima da família de notas do real; veja a origem de cada uma https://t.co/SD0sZIg8iC #G1 #200reais https://t.co/gEJgBxZvyn Começou a primeira edição do Webinar “Reforma Tributária em Debate – Para o Brasil voltar mais rápido”. https://t.co/HFGdue6TMv  #reformatributária #Economia #bancos PGR pede que STF mande Queiroz de volta para a cadeia https://t.co/q40GIqHEp8 https://t.co/82rZvJ98hS gente numa boa um curso online de 8 módulos explicando política nacional com uma advogada mestra pela são francisco e uma das comentaristas mais famosas da atualidade por 478 reais tá até bem barato https://t.co/PSucJAu5Qh Vai ter minicurso de Introdução a Ciência Política e Cultura Pop sim! Na próxima quarta (09/10) vou abrir inscrições e vou divulgar qual a temática política que vamos tratar em cada aula. O foco são conceitos políticos com ex de série  Me sigam no Insta: https://t.co/omgkzudxH3 https://t.co/RQtDno0J9p Gabriela Prioli sendo duramente criticada pq lançou curso sobre política no valor de R$ 487. Advogada, mestra em Direito Penal pela USP, professora de pós-graduação da Mackenzie, famosa comentarista política. Vc pode argumentar q é um valor alto dado o padrão de vida da maioria + A @hotmart é uma empresa privada, e pode perfeitamente assumir uma linha editorial/política fazendo seleção ideológica de conteúdo, se assim desejar. Entretanto, já deveria saber que o público não é bobo, e percebe quem tenta posar de “isento” sem de fato sê-lo. A pessoa começar o hábito da leitura é importante, isso da leitura ser válida se aplica apenas pra livro infantojuvenil. Imagine um trabalhador lendo livro de política bem liberal... pois é @soueuMaeli Liberal conservador = maior piada da política. Eu vendo a sorelle se manifestando contra as medidas de segurança falando que é uma questao política https://t.co/oINdZ8Y8WI O PR já deu todas as indicações que não vai, nem pode, nem consegue estruturar uma base conservadora na política nacional. O grupo que entender isso e usar esse momento para se expandir pelos seus próprios meios vai sair na frente. Quem ficar esperando, morre sentado. Gostei da nota de 200 mas vamos ser realistas? Não dá nem pro cheiro esse argumento de inflação. Países inflacionados costumam gerar notas muito mais altas como de 2.000 ou 5.000 pra dar um respiro na economia.  É muito mais voltado pro público que guarda dinheiro em casa. Olá, @hotmart! Eu pensei que conteúdo o político havia sido banido da plataforma de vocês. Afinal, os produtos da @brasil_paralelo e do @siteolavete foram removidos.   Por que o curso da Gabriela Prioli continua disponível? Se for política, mas com ideologia de esquerda, vale? https://t.co/6uHiCUthZD @miriamleitao Bolsonaro, por favor, pega a trombadinha dos anos 60 pra ministra da economia, ela tem todas as soluções..🙆\\u200d♂️🙆\\u200d♂️🙆\\u200d♂️🙆\\u200d♂️ \"Há duas maneiras de conquistar um país estrangeiro: uma é ganhar o controle de seu povo pelas armas e outra,  de sua economia pelas finanças\"  Foster Dullers, Secretário de Estado do Presidente Einsenhower, dos EUA @neto_angeleli @otakuimages Pergunta pra qualquer especialista em política ou história, ele vai te dizer q é de direita O guará que inspirou o ministério da economia. #200reais https://t.co/rZrpIyswOu @SissyRibs @HugoViraes @brealt @cirogomes Então assumam sua irresponsabilidade, seu voto pró fascismo. Quem tem consciência política e social vota em quem quem for preciso para derrotar os fascistas. Se eu precisar um dia, até votarei no ciro (se sair dos 12%, claro) assim como no psdb(🤢🤮). Pimenta:  Se deseja escapar do naufrágio, Judiciário brasileiro deve julgamento decente a Lula e reparação política a Dilma https://t.co/Xln5YsImgd PF pede novo prazo para concluir inquérito sobre interferência de Bolsonaro - https://t.co/FDrqRKmCLz https://t.co/gE4bix9Kwq Billie Joe fazendo propaganda política contra o Cheetos  Esse é o tweet https://t.co/brds2K2TtT Lei do Gás Natural aprovada na Câmara. Com o vídeo, deixo um questionamento de algo que nos aflige: Que mania os países de 3º mundo têm de atrelar sua economia a empresas estatais (criação de empregos para dominar pessoas❓ desvio de verba pública❓). Por isso, somos 3º mundo. https://t.co/XzEJ9hJDyi Lembrando que esse trabalho é da iniciação científica, então são análises ainda bem superficiais. O trabalho aprofundado pretendo concluir agora no mestrado. Em geral, a representação política negra continua tendo grandes desafios em serem eleitas e tambémtambému em se reeleger. @zee_carlinhos A poucos dias vazaram uma conversa dela com um seguidor surdo que estava pedindo pra ela legendar os vídeos no ytb e ela simplesmente soltou digamos que um \"sem tempo irmão\". E agora apareceu divulgando cursinho caro de política da Gabriela Prioli com 10% de desconto kk Gente é com grande alegria que conclui o trabalho de análise do perfil social e trajetória política dos parlamentares negros e brancos da camara dos deputados, 55 e 56 legislatura. E assim, tô exausto mais de mil perfis minuciosamente pesquisado e dados complicados. Países que pareciam ter conseguido domar o monstro veem a situação se agravar, às vezes em níveis até piores que a onda anterior, e agora relutam em tomar medidas tão extremas quanto antes, pressionados pela economia.  A defesa da vida tá perdendo mesmo onde a gente tecia loas. \"Precisamos salvar economia e empregos pq o pobre precisa comer\"   Dizia-se que na pandemia chegaria um momento em que os pobres saqueariam por causa da fome, mas o que vemos são políticos por todos os lados roubando os pobres.  The End! lindo o lobo guara da nota de 200 com cara de quem não se alimenta há dias pois  teve seu habitat natural destruído pela política ambiental de Ricardo Salles achei verossímil achei plausível @alexandregarcia @YouTube é de causar vergonha, jornalista,senhor de idade, lambendo botas do presidente mentiroso, eleito com o discurso de combater a corrupção, e contra a \"velha política\", e que só pensa em defender seus próprios interesses. A história lhe reserva algumas páginas manchadas #vergonha Sdds de ouvir César falando de política e de me sentir abraçada pelos amigos que fiz em Coimbra  E pela própria cidade e minha casinha lá .. e o bairro da Conchada...aiai Os últimos 4 anos de nomandismo tem deixado umas boas de umas marcas de sdd! Agora ficou mt claro q apenas os conservadores não podem falar sobre política #DerreteHotmart Hotmart proibiu conteúdo político, mas permite ‘manual da política’ da esquerdista Gabriela Prioli de R$ 487,00. \"Como pode alguém se dizer contra o capitalismo cobrar 500 reais para ensinar?\" https://t.co/wDga0VJcoZ Seguindo o exemplo da Argentina, o ditadoria de calça apertadinha e seu fantoche das Covas seguem o projeto de arruinar o Brasil. Com déficit de R$10BI, seguem travando a economia, falindo empresas e gerando desemprego. Não dá para acreditar nesses 2 bostas  Help São Paulo! https://t.co/8E9L2GhEE8 @mariosabinof @deltanmd @jairbolsonaro No fim das contas quem votou no @jairbolsonaro acabou elegendo o plano de governo do @Haddad_Fernando. O maior Plot Twist da política nos últimos 20 anos. O neoliberalismo dos anos 80 é uma peça de museu que o atual ministro da Economia tenta resgatar, penalizando o povo e premiando os ricos. #saláriomínimo Mais uma demonstração de compromisso e respeito com o dinheiro público no Governo do Presidente @jairbolsonaro! A @PalmaresGovBr está de casa nova e a mudança vai gerar uma economia aos cofres públicos de R$ 1,6 milhões por ano. Parabéns,  @sergiodireita1! 🇧🇷👊🏼 https://t.co/6e9zjnzdBt O que pode devolver sentido à política?  \\'A campanha de Biden precisa fazer mudanças que inspirem  jovens, negros, latinos e mulheres:ensino superior gratuito, anistia das dívidas estudantis, acesso universal a creches...\\' Sem isso, cineasta Michael Moore prevê vitória de Trump https://t.co/pUB7hacUE8 Lockdown, rastreamento via celular, máscaras obrigatórias,negação total de qualquer tipo de tratamento possível. Economia arruinada, máscaras que não protegem,médicos apresentando há meses atendimento precoce com resultados positivos expressivos.Desde o início era sobre liberdade Bom dia, @hotmart. Eu pensei que conteúdo político havia sido banido da plataforma. Os produtos do @brasil_paralelo e do @siteolavete foram retirados.  Por que o da Gabriela Prioli continua disponível? Se for política mas com ideologia de esquerda, vale? https://t.co/9CmP8WjIaa lindo o lobo guara da nota de 200 com cara de quem não se alimenta há dias pois  teve seu habitat natural destruído pela política ambiental de Ricardo Salles achei verossímil achei plausível PGR pede que STF mande Queiroz de volta para a cadeia https://t.co/q40GIqHEp8 https://t.co/82rZvJ98hS Porque pra você política é hobby e pra maioria é o que dita se ela vai correr risco de passar fome ou perder o teto. https://t.co/a0xWhyc6fs O Hotmart baniu a @brasil_paralelo da plataforma alegando que mudou sua política de privacidade para não hospedar conteúdo politico-ideologico.  Agora, hospeda o curso da Gabriela Prioli \"Manual da Política Racional\".  Ou libera todos, ou não libera nenhum. #HotmartApoiaACensura @brealt O PCdoB tem mais de 75 anos de história na vida política brasileira. É impressionante como certos absurdos prosperam a ponto de virar matéria de discussão. PGR pede ao Supremo que Queiroz e mulher voltem para a prisão https://t.co/kjrihcI5Hi @_o_Isen__too__ @ivanildo_iii @pedrobezeraa O que está por trás da manobra é que em algum momento entre o fim deste ano e o começo do próximo, o emprego e a renda devem se recuperar e voltar a girar a economia por si. A retirada do auxílio, entretanto, não tem fôlego para continuar por muito tempo, ent n vai ser pra smp lindo o lobo guara da nota de 200 com cara de quem não se alimenta há dias pois  teve seu habitat natural destruído pela política ambiental de Ricardo Salles achei verossímil achei plausível O Governo do Brasil investiu bilhões de reais para salvar vidas e preservar empregos. Enviou recursos para estados e municípios, para a saúde e a economia. Tudo para preservar a vida e o emprego dos brasileiros. ELEIÇÕES NA CAPITAL: Candidatos a prefeitura podem gastar mais de R$ 3 milhões na campanha - https://t.co/mRU9Asq1Tx https://t.co/m8ZjSkqPiF https://t.co/ru78NOkp7i O voto da juventude progressista de BH e de quem acredita na virada de chave da nossa política https://t.co/zFIFtbrbxM Lockdown, rastreamento via celular, máscaras obrigatórias,negação total de qualquer tipo de tratamento possível. Economia arruinada, máscaras que não protegem,médicos apresentando há meses atendimento precoce com resultados positivos expressivos.Desde o início era sobre liberdade A @hotmart é uma empresa privada, e pode perfeitamente assumir uma linha editorial/política fazendo seleção ideológica de conteúdo, se assim desejar. Entretanto, já deveria saber que o público não é bobo, e percebe quem tenta posar de “isento” sem de fato sê-lo. lindo o lobo guara da nota de 200 com cara de quem não se alimenta há dias pois  teve seu habitat natural destruído pela política ambiental de Ricardo Salles achei verossímil achei plausível ABSURDO! São mais de 250 funcionários pagos com DINHEIRO PÚBLICO que formam a milícia política de Crivella! Isso é criminoso! Nova política: Bolsonaro se reúne com corrupto confesso e ex-presidiário Roberto Jefferson https://t.co/TTymg9ZKzU lindo o lobo guara da nota de 200 com cara de quem não se alimenta há dias pois  teve seu habitat natural destruído pela política ambiental de Ricardo Salles achei verossímil achei plausível Bem vindos à nova política. https://t.co/EOYw3036in .@gcamarotti: Governo define estratégia de não votar MP do auxílio emergencial para evitar desgaste https://t.co/sIKvxyhbom #G1 https://t.co/zRQoSMc1Ui aos q entendem de economia pq q essa nota de 200 eh ruim mesmo? https://t.co/tNueEuosdq @FurtadoHt @sk_serge Ai, gente, vamos limpar a política, a política tem que ser asséptica, livre de emoções...  E assim a gente despolitiza barbaramente mais uma geração. TSE permite que político declarado ficha-suja em 2012 concorra neste ano https://t.co/M8qvqadaDt lindo o lobo guara da nota de 200 com cara de quem não se alimenta há dias pois  teve seu habitat natural destruído pela política ambiental de Ricardo Salles achei verossímil achei plausível @janetepimentam1 @DuddaSalvador2 E que a pessoa começa a surtar ...temos visto várias...nunca foi sobre política.  Sempre querem algo ou alguém.Entrei no twiter p me informar e ter uma conexão direta ...poder cobrar, reclamar, elogiar ...estás só querem seguidores...tudoooo biscoiteira @locorreia909 @darkgabi Exatamente. Claro que política é assunto global, todos vivem e comentam a política. Mas debater política e analisá-la cientificamente é diferente. Fora a pretensão de falar de política de uma forma \"limpinha\", sem ideologia, como supostamente sinônimo de racionalidade... lindo o lobo guara da nota de 200 com cara de quem não se alimenta há dias pois  teve seu habitat natural destruído pela política ambiental de Ricardo Salles achei verossímil achei plausível lindo o lobo guara da nota de 200 com cara de quem não se alimenta há dias pois  teve seu habitat natural destruído pela política ambiental de Ricardo Salles achei verossímil achei plausível Segue THREAD sobre cursos ofertados pela Câmara e pelo Senado sobre noções básicas de política. São gratuitos e com excelentes bases, e o melhor, sem a facada de 500 reais! segue o fio Bolsonaro dobra aposta na política da morte, ao declarar que não haverá obrigatoriedade de vacinação contra o novo coronavírus. O culto à liberdade individual, até na forma psicótica, é sua arma junto aos setores mais enfermos da sociedade. Nossa jaboticaba: o liberal-fascismo. @o_antagonista Lamentavelmente não concordamos. Ele não é apto para esse mundo exaustivo e horrível da política. No cenário atual, Bolsonaro ainda parece ser a melhor opção. @Ladyanneladygm1 @GabrielaPrioli Vou te explicar. Ela pode e deve fazer o curso e cobrar quanto quiser. O problema é que a @hotmart baniu todos oa cursos que eram feitos pela direita, pelos conservadores, alegando que não aceitaria mais conteúdos políticos. O curso da Gabriela é sobre o quê? Política. Entendeu? lindo o lobo guara da nota de 200 com cara de quem não se alimenta há dias pois  teve seu habitat natural destruído pela política ambiental de Ricardo Salles achei verossímil achei plausível TSE permite que político declarado ficha-suja em 2012 concorra neste ano https://t.co/QAMOtLDr2H A deputada e pastora Flordelis é o esteriótipo de pastora de igreja batista que ganha dinheiro do dízimo passando a perna nos fiéis e fazendo esquemas na política. Os EvanJélicos mais conhecidos como evanJegues devem tomar mais cuidado. lindo o lobo guara da nota de 200 com cara de quem não se alimenta há dias pois  teve seu habitat natural destruído pela política ambiental de Ricardo Salles achei verossímil achei plausível @Haddad_Fernando Fique em casa, a economia a gente vê depois. Não era este o mantra de vocês ? Quer aumentou se salário pra gerar mais desemprego? É por isto que vocês destroem tudo. Não tem capacidade de administra nem a casa de vocês! Carlos Bolsonaro questiona como ‘blogueiros da Globo têm acesso a segredo de justiça. Sacar seu salário nunca foi crime!’ https://t.co/0O4KFj9dUr Com aniquilação e catalisação das desilusões, Bolsonaro reverte queda de popularidade. Esther Solano analisa como o presidente e sua legião se movem para reconquistar a base que ruía e reúnem estratégia que melhora índices de aprovação do governo https://t.co/XIpcMLpwgU Nota de R$ 200 é divulgada; VEJA ==&gt; https://t.co/0KSjI0jmoI #G1 https://t.co/YYw16JJ9Ah - HOTMART às 23:59h  Diz que não trabalhará com conteúdo político e exclui todos os CONSERVADORES da plataforma.  - HOTMART às 00:00h  Disponibiliza \"Curso Manual da Política\" da ESQUERDISTA Gabriela Prioli na plataforma  CENSURA na cara dura!  #DerreteHotmart https://t.co/lcvKqzYDQE @Coringao1910N O Neto leva a politica dele muito pro programa, é um saco ouvir ele.... O Hotmart baniu a @brasil_paralelo da plataforma alegando que mudou sua política de privacidade para não hospedar conteúdo politico-ideologico.  Agora, hospeda o curso da Gabriela Prioli \"Manual da Política Racional\".  Ou libera todos, ou não libera nenhum. #HotmartApoiaACensura lindo o lobo guara da nota de 200 com cara de quem não se alimenta há dias pois  teve seu habitat natural destruído pela política ambiental de Ricardo Salles achei verossímil achei plausível @LiloVLOG Esse só pode está de conversa  com o Kim katacoquinho . Não tem cabimento esse auxílio continuar. A economia precisa é voltar a funcionar pra o país sair do buraco que está! Gravíssimo! Enquanto milhares aguardam o atendimento na rede municipal de saúde, existia um esquema para furar a fila de cirurgias dentro da própria prefeitura. Não é a primeira vez! Será que Crivella considera algumas vidas mais importantes que outras? https://t.co/X9gbY4MFEn lindo o lobo guara da nota de 200 com cara de quem não se alimenta há dias pois  teve seu habitat natural destruído pela política ambiental de Ricardo Salles achei verossímil achei plausível lindo o lobo guara da nota de 200 com cara de quem não se alimenta há dias pois  teve seu habitat natural destruído pela política ambiental de Ricardo Salles achei verossímil achei plausível CURSOS GRATUITOS DE CIÊNCIA POLÍTICA - segue o fio lindo o lobo guara da nota de 200 com cara de quem não se alimenta há dias pois  teve seu habitat natural destruído pela política ambiental de Ricardo Salles achei verossímil achei plausível Política de Juazeiro vive uma\\xa0indefinição https://t.co/qWiV7yru6h Hoje terei o prazer de mediar uma conversa entre as psicanalistas Maria Rita Kehl e Maria Homem em torno do livro Ressentimento e sua enorme relevância para pensarmos a política e a subjetiva do Brasil em 2020. Na TV da @editoraboitempo a partir das 20:30. Mando o link logo mais. https://t.co/1yBXtx778W @ricoaraujo52 Não, isso abre parâmetro para proibição de qualquer filosofia política. Ninguém é obrigado a ser comunista, conservador ou libertario. O Governo do Brasil investiu bilhões de reais para salvar vidas e preservar empregos. Enviou recursos para estados e municípios, para a saúde e a economia. Tudo para preservar a vida e o emprego dos brasileiros. O Governo do Brasil investiu bilhões de reais para salvar vidas e preservar empregos. Enviou recursos para estados e municípios, para a saúde e a economia. Tudo para preservar a vida e o emprego dos brasileiros. Novidade...essa familicia precisa ser tratada como corruptos que são,  lavadores de dinheiro  Jornal: Ex-assessor de Carlos Bolsonaro sacou salário em espécie por 2 anos @UOLNoticias @UOL https://t.co/inJueNQ6Qs As políticas neoliberais de ataque aos direitos da classe trabalhadora e redução do salário são \"austericidas\", ou seja, asfixiam a economia em nome da austeridade fiscal - todos perdem. #saláriomínimo https://t.co/QzV6Tq8HDN Banco Central apresenta nova cédula de R$ 200 https://t.co/aLFVzRsgEG https://t.co/HZlrCGaQD9 Sério que tem Coxinha e Leite com pera ensinando politica por 500 reais ? 🤣😂🤣😂🤣😂🤣😂 \"Qualquer brasileiro preocupado com o combate à corrupção e com a ética na política só tem a agradecer a Dallagnol por sua dedicação nestes quase seis anos e meio de Lava Jato\"  #lavajato  https://t.co/hCm2jtLjsy @TheBarbosaCarai @GabrielaPrioli Bom, eu não acredito em neutralidade política, tudo tem contexto e viés segundo sua realidade, gosto da Gabriela Prioli, vejo os vídeos do YouTube, mas acho que ela erra em se colocar nessa posição Reforma administrativa: Governo inclui PEC que acelera privatizações. https://t.co/3Hxou4h6E0 @TrezePh @GabrielMaia37 @Igortep @MInfraestrutura Bom vc ta no direito d n acreditar nele afinal a classe política no Br n é das mais confiáveis mas algumas coisas vao além disso,como disse o @MInfraestrutura está fazendo bons trabalhos fazendo e concluindo obras q ja eram p estar prontas a anos merecem o benefício da duvida Agenda golpista privilegia os interesses imperialistas e vem destruindo a economia nacional https://t.co/vStCqjxZwe Agora ficou mt claro q apenas os conservadores não podem falar sobre política #DerreteHotmart Recomendo a leitura da matéria da @VEJA q mostra o fracasso d insistir na quarentena. O mais longo isolamento do mundo, a Argentina produziu uma catástrofe p/a sua economia. Dezenas d milhares d empresas foram varridas do mapa. Lamentável insistir no erro. https://t.co/Jf0Z8MW8Kb Lei do Gás Natural aprovada na Câmara. Com o vídeo, deixo um questionamento de algo que nos aflige: Que mania os países de 3º mundo têm de atrelar sua economia a empresas estatais (criação de empregos para dominar pessoas❓ desvio de verba pública❓). Por isso, somos 3º mundo. https://t.co/XzEJ9hJDyi O papo da vacina é a distração e funcionou bem. Mais por trás da cortina de fumaça tem um alvo certo: O Sistema Unico de Saúde- SUS.  O Nosso SUS, que impediu que tragédia fosse maior que a dos Estados Unidos, economia mais rica do mundo e não tem sistema público de saúde. 2020.  Já fomos bruxas.  Somos dragão.  E seremos sempre luta. Em breve, apresentaremos uma camisa do #EuAchoéPouco para os tempos pandêmicos.  Pois, mesmo na quarentena, no isolamento e no distanciamento social, Carnaval é política. #SigaoDragãoEmCasa  ❤️🐉💛 https://t.co/FUgG41GiEI Galerinha, se inscrevam no curso de formação política GRATUITO  Acessa aí 👇 https://t.co/8As0NaWB1S https://t.co/d9UP9mLjDQ Milícias, polícias, o presidente … Uma triangulação que não acontece só por aqui. A coisa está ficando muito bizarra nos Estados Unidos também. Talvez a bizarrice de sempre esteja vindo à tona. E não é bonita.  Matéria minha no @OPartisanoORG … Confiram! https://t.co/Ryn2mQOYWe Ministro Paulo Guedes, @MinEconomia, comenta a queda do PIB no 2º trimestre, mas destaca que resultado  é “um som distante”. Ele reforça que a retomada da economia depende de reformas que vão passar pelo Congresso Nacional. Detalhes:⬇️📺 https://t.co/mrEPUi8u7C Em 4 meses, R$ 3.760.000,00, o que dá um gasto diário de módicos R$ 31.000,00.  E tudo sigiloso.  https://t.co/eUm3Zki0GH Muita gente me fala sobre a insegurança que sente ao entrar numa discussão política. Pensando nisso, eu criei o Manual da Política Racional, um curso pra você ganhar domínio sobre conceitos-chave, construir a própria opinião e entrar no debate confiante!  https://t.co/uvKTk7i3nO https://t.co/TYXy28TTWn Bora começar o limpa! Afastar os demônios-iluminados da Política https://t.co/oFCivCXHbb Samsung vai produzir celular dobrável 5G no Brasil e lança linha de smartphone premium https://t.co/UdQgfs6NRj STF suspende ação penal da Lava-Jato contra Marco Maia  https://t.co/4vPLah0tlb A importantíssima Nova Lei do Gás foi aprovada na Câmara com larga vantagem: 351 a 101. Falta o Senado, que sentiu a pressão popular após derrubar o veto dos reajustes. Paulo Guedes vive dizendo que \"quem define o tempo das reformas é a política\". Bom, acho que chegou a hora! Em 1953 Betty Howard se mudou com seu marido p/ um apto no condomínio Trumbull Parks, em Chicago. Apesar de fazer parte de uma política pública habitacional, tratava-se de um bairro branco e só pessoas brancas conseguiam viver ali. Betty e seu marido Donald eram negros Segue THREAD sobre cursos ofertados pela Câmara e pelo Senado sobre noções básicas de política. São gratuitos e com excelentes bases, e o melhor, sem a facada de 500 reais! segue o fio E o Bolsonaro, que optou por \"salvar a economia e não as vidas\", hoje carrega o peso de mais de 122 mil mortos por Covid-19 e uma queda histórica do PIB brasileiro.   Vidas perdidas, sonhos interrompidos e nosso país novamente em recessão. lindo o lobo guara da nota de 200 com cara de quem não se alimenta há dias pois  teve seu habitat natural destruído pela política ambiental de Ricardo Salles achei verossímil achei plausível @claudferraz @mgaldino @lucfsantana1812 @vitor_oliveira Não, de que o curso é sobre política e não sobre ciência política. Se a Igreja quer imiscuir-se na política, podia, sei lá, começar a pagar impostos, por exemplo. @nelsonpaffi @mitags @nelsonpaffi essa situação vai PERDURAR até que REALMENTE a nação passe a lutar por liberdade e Justiça. O 🇧🇷 está acordando, mas, muitos ainda estão sob o efeito da MORFINA. Nação, dêem atenção a política e COBRE resultados, pq, se VOCÊ não o fizer. FARÃO POR TI. lindo o lobo guara da nota de 200 com cara de quem não se alimenta há dias pois  teve seu habitat natural destruído pela política ambiental de Ricardo Salles achei verossímil achei plausível Nota de R$ 200 é a sétima da família de notas do real; veja a origem de cada uma https://t.co/SD0sZIg8iC #G1 #200reais https://t.co/gEJgBxZvyn Não é de hoje que venho combatendo a sanha econômica e política da Igreja Universal do Reino de Deus. Os tentáculos da milícia gospel do bispo Crivella se espalham por diversas áreas na cidade do Rio de Janeiro. https://t.co/anRrRh6uU9 @liberdade_ldr A primavera politica finalmente chegou na Argentina! Brasil 2013 Argentina 2020 gosto de falar com o Heitor pq a gente fala sobre política mesmo sendo 2 anta A importantíssima Nova Lei do Gás foi aprovada na Câmara com larga vantagem: 351 a 101. Falta o Senado, que sentiu a pressão popular após derrubar o veto dos reajustes. Paulo Guedes vive dizendo que \"quem define o tempo das reformas é a política\". Bom, acho que chegou a hora! lindo o lobo guara da nota de 200 com cara de quem não se alimenta há dias pois  teve seu habitat natural destruído pela política ambiental de Ricardo Salles achei verossímil achei plausível Você queimou um bocado de bacon, mas, seu caráter e moral nós já conhecemos! Esquece carreira política 🐽            #PepaNemAPau Bora lá gente, essa eu subo com mais afinco que tudo! 🙋\\u200d♀️🤖🤺🏹 https://t.co/Tjosgie6EW Já agradeceu hoje pelo Brasil ter sido livrado da esquerda? A Argentina hoje caminha para ser a nova Venezuela. Com a quarentena mais longa do mundo, os números do coronavírus dispararam e a economia passa por uma das maiores recessões da história. Que Deus abençoe a Argentina. https://t.co/gyCbZAcKAe A TV a cabo BR, deixoiu hoje um pouco de falar mal do Sr e dirigiu a critica pártidária dela a outros politicos.  Deixaram de detonar a sua carreira politica como faziam   dias até a noite. Acusavam claramente. Deveriam neutralidade.  @realDonaldTrump   @Nasa  C.C. @BorisJohnson https://t.co/w4QNe1YpD8 Colecionadores fazem fila no Banco Central para pegar nova de R$ 200 https://t.co/bcCK4X9wIm Samsung vai produzir celular dobrável 5G no Brasil e lança linha de smartphone premium https://t.co/UdQgfs6NRj Banco Central lança nota de R$ 200, com imagem de lobo-guará | Economia | G1 https://t.co/EkEEqmxeKi Agora ficou mt claro q apenas os conservadores não podem falar sobre política #DerreteHotmart Nota de R$ 200 é a sétima da família de notas do real; veja a origem de cada uma https://t.co/SD0sZIg8iC #G1 #200reais https://t.co/gEJgBxZvyn Colecionadores fazem fila no Banco Central para pegar nova de R$ 200 https://t.co/MbBKkJKobe Porque pra você política é hobby e pra maioria é o que dita se ela vai correr risco de passar fome ou perder o teto. https://t.co/a0xWhyc6fs Ministro Benedito Gonçalves confirmou em colegiado a própria decisão, que tirou Witzel do cargo na sexta (28). Voto já foi seguido por três ministros  https://t.co/LhNJrUTh7l lindo o lobo guara da nota de 200 com cara de quem não se alimenta há dias pois  teve seu habitat natural destruído pela política ambiental de Ricardo Salles achei verossímil achei plausível ASSISTAM THE UNTAMED NA NETFLIX  é sobre um bi que toca flautinha para morto e uma yag crente que vão desvendar o mistério da morte do bi com muita lutinha de espada e homens de cabelão que nunca desarrumam, treta política, guerra, pai do comunismo e uns vilão burguês safado https://t.co/Z5bAuoeuOZ cobrar 500 pila pra \"ensinar política\"? Liberal é uma porra mesmo É a existência da política que junta os burros todos num grupo para tentarem atacar os burros todos do outro. Eu sugiro abolirmos a política. Oi, gente! ✨ Estou passando aqui para convidá-los para mais uma live. 🙋🏻\\u200d♀️  Logo mais, às 21h, estarei com a Camila Rosa, pré-candidata à vereadora por Aparecida de Goiânia. Vamos falar um pouco mais sobre \"Mulheres na Política\". Participe com a gente! &gt;&gt; https://t.co/HooAUJh2g1 https://t.co/kwBehFYZ4e O congelamento do salário mínimo pelo segundo ano consecutivo vai atrasar ainda mais a recuperação da economia. Ao contrário dos governos do PT que valorizaram o salário mínimo em 77%, Bolsonaro aprofunda o arrocho, a recessão e a desigualdade no país. https://t.co/9jkJpKuCb0 Sinceramente? A única coisa q me deixa puta nessa história é ela ser formada em direito e mestra em direito e dando curso sobre política.  Eu falo por experiência o q eu sei sobre política eu não aprendi na minha graduação de direito e sim de ciência política... https://t.co/AxwQ7pVPVL @paulomathias O investimento NÃO É PRAS CRIANÇAS é pra sua campanha política PIB e Pandemia, Saúde e Economia: estamos tomando de goleada nas duas áreas, inseparáveis. Meu artigo de hoje no @Estadao https://t.co/qTIXL0hn95 Eleições 2020: candidatos à Prefeitura de Maceió poderão gastar mais de R$ 5 milhões. Saiba mais: https://t.co/X1hZtBhKo8 PGR pede ao Supremo que Queiroz e mulher voltem para a prisão https://t.co/kjrihcI5Hi @JR_Santos06 @maisa A maior economia do país, o maior centro cultural e étnico do país, a 5 cidade com o maior número de museus, maior número de turismo, o maior carnaval da história, o melhor futebol, e menos poluído que o rio de janeiro kaks O Governo do Brasil investiu bilhões de reais para salvar vidas e preservar empregos. Estabeleceu parceria e investirá na produção de vacina. Recursos para estados e municípios, saúde, economia, TUDO será feito, mas impor obrigações definitivamente não está nos planos. 🇧🇷🤝🇧🇷 https://t.co/CpaTqK620v Chega a ser patético ver gente que vc viu que durante a VIDA INTEIRA nunca se importou com causas sociais DO NADA entrar pro ramo da política e começar a praticar ações sociais com pura intenção de voto (pq no fundo vc sabe que é só por isso mesmo) PREGUIÇA Errado. Eu estou falando há tempo. Não queiram analisar o fascismo usando a as réguas convencionais da ciência política. Usem Reich, Freud, Adorno, Hockheimer, Le Bon, etc. Fascismo é fenômeno psicológico, de massas, não é política. https://t.co/4Iz1WbDK9U @paulomathias O investimento NÃO É PRAS CRIANÇAS é pra sua campanha política @alinadurso Assistam \"The Untamed\" (\"Os Indomáveis\") na Netflix. Tem treta política, guerra, queda de clã, MUITA tragédia, revolução de uma classe oprimida, lutas de espada, plot twist, um bi que toca flauta pra controlar os mortos e um gay apaixonado por ele, tudo de bom https://t.co/SL7TZosqD3 Tristeza! Há que resistir sempre é combater a política predatória de BolsoNero é sinistro Salles. Pantanal em chamas. Amazônia desmatada. Índios acossados. Garimpeiros ilegais em avião da FAB! Criminosos! Pagarão por isto! 😥🐸🌿🌻 https://t.co/QN89uTX48C Bom dia, @hotmart. Eu pensei que conteúdo político havia sido banido da plataforma. Os produtos do @brasil_paralelo e do @siteolavete foram retirados.  Por que o da Gabriela Prioli continua disponível? Se for política mas com ideologia de esquerda, vale? https://t.co/9CmP8WjIaa Nota de R$ 200 é divulgada; VEJA ==&gt; https://t.co/0KSjI0jmoI #G1 https://t.co/YYw16JJ9Ah Tristeza! Há que resistir sempre é combater a política predatória de BolsoNero é sinistro Salles. Pantanal em chamas. Amazônia desmatada. Índios acossados. Garimpeiros ilegais em avião da FAB! Criminosos! Pagarão por isto! 😥🐸🌿🌻 https://t.co/QN89uTX48C lindo o lobo guara da nota de 200 com cara de quem não se alimenta há dias pois  teve seu habitat natural destruído pela política ambiental de Ricardo Salles achei verossímil achei plausível “Eles estão vencendo a guerra, porque já não há povo nas ruas, tolhido que está pela preocupação de sobreviver ao vírus e ao desmoronamento da economia.”  Por @mariosabinof.  https://t.co/jK11jlpARu lindo o lobo guara da nota de 200 com cara de quem não se alimenta há dias pois  teve seu habitat natural destruído pela política ambiental de Ricardo Salles achei verossímil achei plausível lindo o lobo guara da nota de 200 com cara de quem não se alimenta há dias pois  teve seu habitat natural destruído pela política ambiental de Ricardo Salles achei verossímil achei plausível Segue THREAD sobre cursos ofertados pela Câmara e pelo Senado sobre noções básicas de política. São gratuitos e com excelentes bases, e o melhor, sem a facada de 500 reais! segue o fio O que vocês pensam sobre \"não se deve misturar política com religião?\" Já que pretendem manter a política racista de cotas.  Vou obstruir todos os projetos que seriam votados hoje, seria imoral da minha parte aceitar calado tamanho absurdo.  Uma pessoa deve ser julgada pelo caráter, não pela cor da pele! Agora ficou mt claro q apenas os conservadores não podem falar sobre política #DerreteHotmart lindo o lobo guara da nota de 200 com cara de quem não se alimenta há dias pois  teve seu habitat natural destruído pela política ambiental de Ricardo Salles achei verossímil achei plausível Nota de R$ 200 é divulgada; VEJA ==&gt; https://t.co/0KSjI0jmoI #G1 https://t.co/YYw16JJ9Ah Lá atrás o Presidente Bolsonaro já alertava para a necessidade de preservar vidas E a economia. Hoje a fatura chegou: recessão de 9,7% do PIB. Essa conta tem a digital dos agentes do caos que promoveram uma falsa dicotomia e fizeram coro pelo lockdown. https://t.co/TtzP73d8GU Osmar Terra alerta: \\'PT e PSOL tentam legalizar maconha no Brasil para alimentar o tráfico\\' https://t.co/4HJcleRbeL @tiasriel ele deve curtir esses bagulho, eu curtia mt política quando tinha uns 12 anos tbm lindo o lobo guara da nota de 200 com cara de quem não se alimenta há dias pois  teve seu habitat natural destruído pela política ambiental de Ricardo Salles achei verossímil achei plausível URGENTE! Acabei de apresentar o pedido de impeachment de Crivella na Câmara de Vereadores. O prefeito cometeu crime ao usar funcionários da prefeitura, pagos com dinheiro público, como se fossem uma milícia política para ameaçar jornalistas e tentar esconder o caos na saúde. O BC justifica que teve que colocar a nota de R$ 200 porque brasileiros estão guardando dinheiro em espécie em casa. Mas os primeiros a pegarem a nota hoje devem manter essa tendência. São colecionadores. https://t.co/8pqMRoUTxt O quadro em que se desenrola a política americana é este. Enough said? https://t.co/lsdjNZ6rVs Um homem de Deus na política.  Ele usa os  funcionários de confiança dele, intimidarem os funcionários e os cidadãos de darem entrevistas  Isso até que demorou. Mas se ele disse na sua campanha campanha de 2016 que cuidaria das pessoas, então por que fez isso.   #foracrivela https://t.co/gLlbuSrYe9 E o Bolsonaro, que optou por \"salvar a economia e não as vidas\", hoje carrega o peso de mais de 122 mil mortos por Covid-19 e uma queda histórica do PIB brasileiro.   Vidas perdidas, sonhos interrompidos e nosso país novamente em recessão. Nova cédula vai atender a quem quer dinheiro no bolso. Mas para a classe política, os gastos que a justificaram durante a pandemia são suficientes? https://t.co/phYO2CNz2A Bora começar o limpa! Afastar os demônios-iluminados da Política https://t.co/oFCivCXHbb No Brasil, temos que andar com carro velho e sujo. Moto, nem pensar, muito visada pelos bandidos. Isso nunca vai mudar. E se acontecer, vai ser para pior. Na política, na polícia, tem bandido em todo lugar. #brasilurgente'"
      ]
     },
     "execution_count": 89,
     "metadata": {},
     "output_type": "execute_result"
    }
   ],
   "source": [
    "words"
   ]
  },
  {
   "cell_type": "code",
   "execution_count": 90,
   "metadata": {},
   "outputs": [],
   "source": [
    "# Removendo characteres\n",
    "words = re.sub(r'\"', '\"', words)\n",
    "words = re.sub(r'\"', '\"', words)\n",
    "\n",
    "# remove $\n",
    "words = re.sub(r'\\$\\w', '',words)\n",
    "# remove mentions ou menções\n",
    "words = re.sub(r'@\\S+', '', words)\n",
    "# remove hashtags\n",
    "words = re.sub(r'#\\S+', '', words)\n",
    "#remove hyperlinks\n",
    "words = re.sub(r'https?:\\/\\/.*[\\r\\n]*', '', words)\n",
    "# remove números\n",
    "words = re.sub('[0-9]+', '', words)"
   ]
  },
  {
   "cell_type": "code",
   "execution_count": 91,
   "metadata": {},
   "outputs": [
    {
     "data": {
      "text/plain": [
       "'\"Vou fechar a economia até surgir a vacina. Quando surgir vou obrigar todos a tomar. Sobre a cloroquina, só meus médicos podem usar (e talvez euzinho). Enquanto isso, ponha sua máscara, fique em casa e cale a boca. Tudo culpa do presidente\".  Esse é o democrata exemplar da mídia. AMEI, AMEI, AMEII!!!! Obrigada aos goianos responsáveis pelo lindo outdoor. Antes víamos milhares de brasileiros com vergonha da classe política, hoje vejo milhões contentes com esse super time do Presidente    '"
      ]
     },
     "execution_count": 91,
     "metadata": {},
     "output_type": "execute_result"
    }
   ],
   "source": [
    "words"
   ]
  },
  {
   "cell_type": "code",
   "execution_count": null,
   "metadata": {},
   "outputs": [],
   "source": [
    "# outra forma de limpeza\n",
    "words_clean = \" \".join([word for word in words.split()\n",
    "                        if 'https' not in word\n",
    "                        and not word.startswith('@')\n",
    "                        and not palavra.startswith('#')\n",
    "                        and word != 'RT'\n",
    "                       ])"
   ]
  },
  {
   "cell_type": "code",
   "execution_count": 92,
   "metadata": {},
   "outputs": [],
   "source": [
    "words_clean = \" \".join([word for word in words.split()\n",
    "                       if word != 'RT'])"
   ]
  },
  {
   "cell_type": "code",
   "execution_count": 93,
   "metadata": {},
   "outputs": [
    {
     "name": "stdout",
     "output_type": "stream",
     "text": [
      "Collecting warn\n",
      "  Using cached warn-0.1.0-py2.py3-none-any.whl (23 kB)\n",
      "Installing collected packages: warn\n",
      "Successfully installed warn-0.1.0\n"
     ]
    }
   ],
   "source": [
    "!pip install warn"
   ]
  },
  {
   "cell_type": "code",
   "execution_count": 94,
   "metadata": {},
   "outputs": [
    {
     "data": {
      "image/png": "[encoded data removed]",
      "text/plain": [
       "<Figure size 432x288 with 1 Axes>"
      ]
     },
     "metadata": {
      "needs_background": "light"
     },
     "output_type": "display_data"
    }
   ],
   "source": [
    "# Criando a nuvem de palavras\n",
    "import warnings # Importando a biblioteca\n",
    "\n",
    "warnings.simplefilter('ignore')\n",
    "\n",
    "wc = WordCloud(min_font_size=10, max_font_size=300,\n",
    "              background_color='white',\n",
    "              mode=\"RGB\", width=2000, height=1000,\n",
    "              normalize_plurals=True).generate(words_clean)\n",
    "\n",
    "plt.imshow(wc, interpolation=\"bilinear\")\n",
    "plt.axis(\"off\")\n",
    "plt.savefig('texto_cloud.png', dpi=300)\n",
    "plt.show()"
   ]
  },
  {
   "cell_type": "markdown",
   "metadata": {},
   "source": [
    "### Análise temporal dos tweets"
   ]
  },
  {
   "cell_type": "code",
   "execution_count": 108,
   "metadata": {},
   "outputs": [],
   "source": [
    "from datetime import datetime"
   ]
  },
  {
   "cell_type": "code",
   "execution_count": 110,
   "metadata": {},
   "outputs": [
    {
     "name": "stdout",
     "output_type": "stream",
     "text": [
      "2020-08-08 22:55:17\n"
     ]
    }
   ],
   "source": [
    "# Tweets postados por dia\n",
    "data = tweets_df\n",
    "print(data['Data'][0])"
   ]
  },
  {
   "cell_type": "code",
   "execution_count": 111,
   "metadata": {},
   "outputs": [
    {
     "name": "stdout",
     "output_type": "stream",
     "text": [
      "2020-08-08\n"
     ]
    }
   ],
   "source": [
    "# Converter a data para apenas dia/mês e ano, sem a hora\n",
    "data['Data'] = pd.to_datetime(data['Data']).apply(lambda x: x.date())\n",
    "print(data['Data'][0])"
   ]
  },
  {
   "cell_type": "code",
   "execution_count": 112,
   "metadata": {},
   "outputs": [
    {
     "data": {
      "text/plain": [
       "2020-08-08    374\n",
       "2020-08-09     26\n",
       "Name: Data, dtype: int64"
      ]
     },
     "execution_count": 112,
     "metadata": {},
     "output_type": "execute_result"
    }
   ],
   "source": [
    "# Quantidade de Tweets postados por dia\n",
    "QtdeDiaria = data['Data'].value_counts() #conta a quantidade de tweets por dia\n",
    "QtdeDiaria"
   ]
  },
  {
   "cell_type": "code",
   "execution_count": 114,
   "metadata": {},
   "outputs": [
    {
     "data": {
      "text/plain": [
       "<AxesSubplot:xlabel='Data'>"
      ]
     },
     "execution_count": 114,
     "metadata": {},
     "output_type": "execute_result"
    },
    {
     "data": {
      "image/png": "[encoded data removed]",
      "text/plain": [
       "<Figure size 1152x288 with 1 Axes>"
      ]
     },
     "metadata": {
      "needs_background": "light"
     },
     "output_type": "display_data"
    }
   ],
   "source": [
    "#Gera gráfico de linha\n",
    "tlen = pd.Series(data['Data'].value_counts(), index=data['Data'])\n",
    "tlen.plot(figsize=(16,4), color='r')"
   ]
  },
  {
   "cell_type": "code",
   "execution_count": null,
   "metadata": {},
   "outputs": [],
   "source": []
  }
 ],
 "metadata": {
  "kernelspec": {
   "display_name": "Python 3",
   "language": "python",
   "name": "python3"
  },
  "language_info": {
   "codemirror_mode": {
    "name": "ipython",
    "version": 3
   },
   "file_extension": ".py",
   "mimetype": "text/x-python",
   "name": "python",
   "nbconvert_exporter": "python",
   "pygments_lexer": "ipython3",
   "version": "3.7.3"
  }
 },
 "nbformat": 4,
 "nbformat_minor": 4
}
